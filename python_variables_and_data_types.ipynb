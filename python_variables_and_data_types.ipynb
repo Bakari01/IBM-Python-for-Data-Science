{
  "nbformat": 4,
  "nbformat_minor": 0,
  "metadata": {
    "kernelspec": {
      "display_name": "Python 3",
      "language": "python",
      "name": "python3"
    },
    "language_info": {
      "codemirror_mode": {
        "name": "ipython",
        "version": 3
      },
      "file_extension": ".py",
      "mimetype": "text/x-python",
      "name": "python",
      "nbconvert_exporter": "python",
      "pygments_lexer": "ipython3",
      "version": "3.8.6"
    },
    "colab": {
      "name": "python-variables-and-data-types.ipynb",
      "provenance": [],
      "include_colab_link": true
    }
  },
  "cells": [
    {
      "cell_type": "markdown",
      "metadata": {
        "id": "view-in-github",
        "colab_type": "text"
      },
      "source": [
        "<a href=\"https://colab.research.google.com/github/Bakari01/Python-for-Data-Science/blob/main/python_variables_and_data_types.ipynb\" target=\"_parent\"><img src=\"https://colab.research.google.com/assets/colab-badge.svg\" alt=\"Open In Colab\"/></a>"
      ]
    },
    {
      "cell_type": "code",
      "metadata": {
        "colab": {
          "base_uri": "https://localhost:8080/"
        },
        "id": "hW8seXIfAjgb",
        "outputId": "744997c5-8fba-4ecc-bfc3-fa46e1d76312"
      },
      "source": [
        "# Jovian Commit Essentials\n",
        "# Please retain and execute this cell without modifying the contents for `jovian.commit` to work\n",
        "!pip install jovian --upgrade -q\n",
        "import jovian\n",
        "jovian.set_project('python-variables-and-data-types')\n",
        "jovian.set_colab_id('1Yt_gMe_wWhzixi_AeKimUQ3oKuNkX1QZ')"
      ],
      "execution_count": 1,
      "outputs": [
        {
          "output_type": "stream",
          "name": "stdout",
          "text": [
            "\u001b[?25l\r\u001b[K     |████▊                           | 10 kB 18.8 MB/s eta 0:00:01\r\u001b[K     |█████████▌                      | 20 kB 11.5 MB/s eta 0:00:01\r\u001b[K     |██████████████▎                 | 30 kB 6.9 MB/s eta 0:00:01\r\u001b[K     |███████████████████             | 40 kB 6.3 MB/s eta 0:00:01\r\u001b[K     |███████████████████████▉        | 51 kB 3.2 MB/s eta 0:00:01\r\u001b[K     |████████████████████████████▋   | 61 kB 3.5 MB/s eta 0:00:01\r\u001b[K     |████████████████████████████████| 68 kB 2.3 MB/s \n",
            "\u001b[?25h  Building wheel for uuid (setup.py) ... \u001b[?25l\u001b[?25hdone\n"
          ]
        }
      ]
    },
    {
      "cell_type": "markdown",
      "metadata": {
        "id": "SfK6VM7HAjg1"
      },
      "source": [
        "# A Quick Tour of Variables and Data Types in Python\n",
        "\n",
        "This tutorial is a part of [Data Analysis with Python: Zero to Pandas](https://jovian.ai/learn/data-analysis-with-python-zero-to-pandas) and [Zero to Data Analyst Science Bootcamp](https://jovian.ai/learn/zero-to-data-analyst-bootcamp).\n",
        "\n",
        "\n",
        "![](https://i.imgur.com/6cg2E9Q.png)\n",
        "These tutorials take a practical and coding-focused approach. The best way to learn the material is to execute the code and experiment with it yourself. "
      ]
    },
    {
      "cell_type": "markdown",
      "metadata": {
        "id": "ZIl_OPZ8Ajg_"
      },
      "source": [
        "This tutorial covers the following topics:\n",
        "\n",
        "- Storing information using variables\n",
        "- Primitive data types in Python: Integer, Float, Boolean, None and String\n",
        "- Built-in data structures in Python: List, Tuple and Dictionary\n",
        "- Methods and operators supported by built-in data types"
      ]
    },
    {
      "cell_type": "markdown",
      "metadata": {
        "id": "pGGOqlQwAjhC"
      },
      "source": [
        "### How to run the code\n",
        "\n",
        "This tutorial is an executable [Jupyter notebook](https://jupyter.org) hosted on [Jovian](https://www.jovian.ai). You can _run_ this tutorial and experiment with the code examples in a couple of ways: *using free online resources* (recommended) or *on your computer*.\n",
        "\n",
        "#### Option 1: Running using free online resources (1-click, recommended)\n",
        "\n",
        "The easiest way to start executing the code is to click the **Run** button at the top of this page and select **Run on Binder**. You can also select \"Run on Colab\" or \"Run on Kaggle\", but you'll need to create an account on [Google Colab](https://colab.research.google.com) or [Kaggle](https://kaggle.com) to use these platforms.\n",
        "\n",
        "\n",
        "#### Option 2: Running on your computer locally\n",
        "\n",
        "To run the code on your computer locally, you'll need to set up [Python](https://www.python.org), download the notebook and install the required libraries. We recommend using the [Conda](https://docs.conda.io/projects/conda/en/latest/user-guide/install/) distribution of Python. Click the **Run** button at the top of this page, select the **Run Locally** option, and follow the instructions.\n",
        "\n",
        ">  **Jupyter Notebooks**: This tutorial is a [Jupyter notebook](https://jupyter.org) - a document made of _cells_. Each cell can contain code written in Python or explanations in plain English. You can execute code cells and view the results, e.g., numbers, messages, graphs, tables, files, etc. instantly within the notebook. Jupyter is a powerful platform for experimentation and analysis. Don't be afraid to mess around with the code & break things - you'll learn a lot by encountering and fixing errors. You can use the \"Kernel > Restart & Clear Output\" menu option to clear all outputs and start again from the top."
      ]
    },
    {
      "cell_type": "markdown",
      "metadata": {
        "id": "fm4fqoiIAjhG"
      },
      "source": [
        "## Storing information using variables\n",
        "\n",
        "Computers are useful for two purposes: storing information (also known as data) and performing operations on stored data. While working with a programming language such as Python, data is stored in variables. You can think of variables are containers for storing data. The data stored within a variable is called its value. Creating variables in Python is pretty easy, as we've already seen in the [previous tutorial](https://jovian.ml/aakashns/first-steps-with-python/v/4#C15).\n",
        "\n"
      ]
    },
    {
      "cell_type": "code",
      "metadata": {
        "id": "g8vNZu1sAjhK"
      },
      "source": [
        "my_favorite_color = \"blue\""
      ],
      "execution_count": 2,
      "outputs": []
    },
    {
      "cell_type": "code",
      "metadata": {
        "colab": {
          "base_uri": "https://localhost:8080/",
          "height": 35
        },
        "id": "1GaqwVUOAjhP",
        "outputId": "65d395d5-be44-4789-92b4-5b98034f3d92"
      },
      "source": [
        "my_favorite_color"
      ],
      "execution_count": 3,
      "outputs": [
        {
          "output_type": "execute_result",
          "data": {
            "application/vnd.google.colaboratory.intrinsic+json": {
              "type": "string"
            },
            "text/plain": [
              "'blue'"
            ]
          },
          "metadata": {},
          "execution_count": 3
        }
      ]
    },
    {
      "cell_type": "markdown",
      "metadata": {
        "id": "E1CPEryFAjhY"
      },
      "source": [
        "A variable is created using an assignment statement. It begins with the variable's name, followed by the assignment operator `=` followed by the value to be stored within the variable.  Note that the assignment operator `=` is different from the equality comparison operator `==`.\n",
        "\n",
        "You can also assign values to multiple variables in a single statement by separating the variable names and values with commas."
      ]
    },
    {
      "cell_type": "code",
      "metadata": {
        "id": "pkZy1NaFAjhe"
      },
      "source": [
        "color1, color2, color3 = \"red\", \"green\", \"blue\""
      ],
      "execution_count": 4,
      "outputs": []
    },
    {
      "cell_type": "code",
      "metadata": {
        "colab": {
          "base_uri": "https://localhost:8080/",
          "height": 35
        },
        "id": "egw60u0vAjhk",
        "outputId": "75ec8318-2567-45dc-9a48-ffa53c4f4012"
      },
      "source": [
        "color1"
      ],
      "execution_count": 5,
      "outputs": [
        {
          "output_type": "execute_result",
          "data": {
            "application/vnd.google.colaboratory.intrinsic+json": {
              "type": "string"
            },
            "text/plain": [
              "'red'"
            ]
          },
          "metadata": {},
          "execution_count": 5
        }
      ]
    },
    {
      "cell_type": "code",
      "metadata": {
        "colab": {
          "base_uri": "https://localhost:8080/",
          "height": 35
        },
        "id": "s23sxYneAjhq",
        "outputId": "437e3f18-96a0-463b-ad83-97409beec34f"
      },
      "source": [
        "color2"
      ],
      "execution_count": 6,
      "outputs": [
        {
          "output_type": "execute_result",
          "data": {
            "application/vnd.google.colaboratory.intrinsic+json": {
              "type": "string"
            },
            "text/plain": [
              "'green'"
            ]
          },
          "metadata": {},
          "execution_count": 6
        }
      ]
    },
    {
      "cell_type": "code",
      "metadata": {
        "colab": {
          "base_uri": "https://localhost:8080/",
          "height": 35
        },
        "id": "aek5T8O6Ajhu",
        "outputId": "78bdf266-fb58-4f17-a8d8-a382d7fd06ad"
      },
      "source": [
        "color3"
      ],
      "execution_count": 7,
      "outputs": [
        {
          "output_type": "execute_result",
          "data": {
            "application/vnd.google.colaboratory.intrinsic+json": {
              "type": "string"
            },
            "text/plain": [
              "'blue'"
            ]
          },
          "metadata": {},
          "execution_count": 7
        }
      ]
    },
    {
      "cell_type": "markdown",
      "metadata": {
        "id": "Dj_HXO-EAjh1"
      },
      "source": [
        "You can assign the same value to multiple variables by chaining multiple assignment operations within a single statement."
      ]
    },
    {
      "cell_type": "code",
      "metadata": {
        "id": "L5frsN38Ajh4"
      },
      "source": [
        "color4 = color5 = color6 = \"magenta\""
      ],
      "execution_count": 8,
      "outputs": []
    },
    {
      "cell_type": "code",
      "metadata": {
        "colab": {
          "base_uri": "https://localhost:8080/",
          "height": 35
        },
        "id": "GYeiaJJeAjh7",
        "outputId": "785edecf-d1b3-413f-f6cc-12409d6bb9ac"
      },
      "source": [
        "color4"
      ],
      "execution_count": 9,
      "outputs": [
        {
          "output_type": "execute_result",
          "data": {
            "application/vnd.google.colaboratory.intrinsic+json": {
              "type": "string"
            },
            "text/plain": [
              "'magenta'"
            ]
          },
          "metadata": {},
          "execution_count": 9
        }
      ]
    },
    {
      "cell_type": "code",
      "metadata": {
        "colab": {
          "base_uri": "https://localhost:8080/",
          "height": 35
        },
        "id": "YJun1jBzAjh-",
        "outputId": "4d02ae04-3cb7-4a79-d3f1-21c5b49fa782"
      },
      "source": [
        "color5"
      ],
      "execution_count": 10,
      "outputs": [
        {
          "output_type": "execute_result",
          "data": {
            "application/vnd.google.colaboratory.intrinsic+json": {
              "type": "string"
            },
            "text/plain": [
              "'magenta'"
            ]
          },
          "metadata": {},
          "execution_count": 10
        }
      ]
    },
    {
      "cell_type": "code",
      "metadata": {
        "colab": {
          "base_uri": "https://localhost:8080/",
          "height": 35
        },
        "id": "ku69MjJOAjiA",
        "outputId": "51813e3a-a9d7-48f9-879d-7acb6469d76a"
      },
      "source": [
        "color6"
      ],
      "execution_count": 11,
      "outputs": [
        {
          "output_type": "execute_result",
          "data": {
            "application/vnd.google.colaboratory.intrinsic+json": {
              "type": "string"
            },
            "text/plain": [
              "'magenta'"
            ]
          },
          "metadata": {},
          "execution_count": 11
        }
      ]
    },
    {
      "cell_type": "markdown",
      "metadata": {
        "id": "hLm0CjLPAjiC"
      },
      "source": [
        "You can change the value stored within a variable by assigning a new value to it using another assignment statement. Be careful while reassigning variables: when you assign a new value to the variable, the old value is lost and no longer accessible."
      ]
    },
    {
      "cell_type": "code",
      "metadata": {
        "id": "r6etMnsBAjiE"
      },
      "source": [
        "my_favorite_color = \"red\""
      ],
      "execution_count": 12,
      "outputs": []
    },
    {
      "cell_type": "code",
      "metadata": {
        "colab": {
          "base_uri": "https://localhost:8080/",
          "height": 35
        },
        "id": "lrUFjgsXAjiF",
        "outputId": "302f0a61-a0ab-42d4-9951-98a50c21168d"
      },
      "source": [
        "my_favorite_color"
      ],
      "execution_count": 13,
      "outputs": [
        {
          "output_type": "execute_result",
          "data": {
            "application/vnd.google.colaboratory.intrinsic+json": {
              "type": "string"
            },
            "text/plain": [
              "'red'"
            ]
          },
          "metadata": {},
          "execution_count": 13
        }
      ]
    },
    {
      "cell_type": "markdown",
      "metadata": {
        "id": "Z6sbi3IyAjiH"
      },
      "source": [
        "While reassigning a variable, you can also use the variable's previous value to compute the new value."
      ]
    },
    {
      "cell_type": "code",
      "metadata": {
        "id": "pOwN8Xn7AjiI"
      },
      "source": [
        "counter = 10"
      ],
      "execution_count": 14,
      "outputs": []
    },
    {
      "cell_type": "code",
      "metadata": {
        "id": "HWGAOEdJAjiJ"
      },
      "source": [
        "counter = counter + 1"
      ],
      "execution_count": 15,
      "outputs": []
    },
    {
      "cell_type": "code",
      "metadata": {
        "colab": {
          "base_uri": "https://localhost:8080/"
        },
        "id": "AYW0GZSrAjiL",
        "outputId": "4daae637-9653-4564-8dd3-645fe090572b"
      },
      "source": [
        "counter"
      ],
      "execution_count": 16,
      "outputs": [
        {
          "output_type": "execute_result",
          "data": {
            "text/plain": [
              "11"
            ]
          },
          "metadata": {},
          "execution_count": 16
        }
      ]
    },
    {
      "cell_type": "markdown",
      "metadata": {
        "id": "VclSxmYqAjiN"
      },
      "source": [
        "The pattern `var = var op something` (where `op` is an arithmetic operator like `+`, `-`, `*`, `/`) is very common, so Python provides a *shorthand* syntax for it."
      ]
    },
    {
      "cell_type": "code",
      "metadata": {
        "id": "IPoWSXQKAjiO"
      },
      "source": [
        "counter = 10"
      ],
      "execution_count": 17,
      "outputs": []
    },
    {
      "cell_type": "code",
      "metadata": {
        "id": "iRHO2edsAjiP"
      },
      "source": [
        "# Same as `counter = counter + 4`\n",
        "counter += 4"
      ],
      "execution_count": 18,
      "outputs": []
    },
    {
      "cell_type": "code",
      "metadata": {
        "colab": {
          "base_uri": "https://localhost:8080/"
        },
        "id": "GntIldKiAjiR",
        "outputId": "f1937b64-199b-4a3d-ae6a-efe2597e414b"
      },
      "source": [
        "counter"
      ],
      "execution_count": 19,
      "outputs": [
        {
          "output_type": "execute_result",
          "data": {
            "text/plain": [
              "14"
            ]
          },
          "metadata": {},
          "execution_count": 19
        }
      ]
    },
    {
      "cell_type": "markdown",
      "metadata": {
        "id": "w_M6ECo-AjiT"
      },
      "source": [
        "Variable names can be short (`a`, `x`, `y`, etc.) or descriptive ( `my_favorite_color`, `profit_margin`, `the_3_musketeers`, etc.). However, you must follow these rules while naming Python variables:\n",
        "\n",
        "* A variable's name must start with a letter or the underscore character `_`. It cannot begin with a number.\n",
        "* A variable name can only contain lowercase (small) or uppercase (capital) letters, digits, or underscores (`a`-`z`, `A`-`Z`, `0`-`9`, and `_`).\n",
        "* Variable names are case-sensitive, i.e., `a_variable`, `A_Variable`, and `A_VARIABLE` are all different variables.\n",
        "\n",
        "Here are some valid variable names:"
      ]
    },
    {
      "cell_type": "code",
      "metadata": {
        "id": "WdTav3C6AjiU"
      },
      "source": [
        "a_variable = 23\n",
        "is_today_Saturday = False\n",
        "my_favorite_car = \"Delorean\"\n",
        "the_3_musketeers = [\"Athos\", \"Porthos\", \"Aramis\"] "
      ],
      "execution_count": 20,
      "outputs": []
    },
    {
      "cell_type": "markdown",
      "metadata": {
        "id": "OGfZsDV_AjiV"
      },
      "source": [
        "Let's try creating some variables with invalid names. Python prints a syntax error if your variable's name is invalid.\n",
        "\n",
        "> **Syntax**: The syntax of a programming language refers to the rules that govern the structure of a valid instruction or *statement*. If a statement does not follow these rules, Python stops execution and informs you that there is a *syntax error*. You can think of syntax as the rules of grammar for a programming language."
      ]
    },
    {
      "cell_type": "code",
      "metadata": {
        "colab": {
          "base_uri": "https://localhost:8080/",
          "height": 132
        },
        "id": "ocx44CkCAjiW",
        "outputId": "e31b3e52-f773-4271-b52d-9acb621a140f"
      },
      "source": [
        "a variable = 23"
      ],
      "execution_count": 21,
      "outputs": [
        {
          "output_type": "error",
          "ename": "SyntaxError",
          "evalue": "ignored",
          "traceback": [
            "\u001b[0;36m  File \u001b[0;32m\"<ipython-input-21-b4f9daa715a5>\"\u001b[0;36m, line \u001b[0;32m1\u001b[0m\n\u001b[0;31m    a variable = 23\u001b[0m\n\u001b[0m             ^\u001b[0m\n\u001b[0;31mSyntaxError\u001b[0m\u001b[0;31m:\u001b[0m invalid syntax\n"
          ]
        }
      ]
    },
    {
      "cell_type": "code",
      "metadata": {
        "colab": {
          "base_uri": "https://localhost:8080/",
          "height": 132
        },
        "id": "3BY2R9MyAjiX",
        "outputId": "c7617f4f-5610-46b2-b6c1-cf21214b560d"
      },
      "source": [
        "is_today_$aturday = False"
      ],
      "execution_count": 22,
      "outputs": [
        {
          "output_type": "error",
          "ename": "SyntaxError",
          "evalue": "ignored",
          "traceback": [
            "\u001b[0;36m  File \u001b[0;32m\"<ipython-input-22-3785425ca227>\"\u001b[0;36m, line \u001b[0;32m1\u001b[0m\n\u001b[0;31m    is_today_$aturday = False\u001b[0m\n\u001b[0m             ^\u001b[0m\n\u001b[0;31mSyntaxError\u001b[0m\u001b[0;31m:\u001b[0m invalid syntax\n"
          ]
        }
      ]
    },
    {
      "cell_type": "code",
      "metadata": {
        "colab": {
          "base_uri": "https://localhost:8080/",
          "height": 132
        },
        "id": "SuIExld4AjiX",
        "outputId": "9a447d8c-9726-4314-c707-e220cde36c4b"
      },
      "source": [
        "my-favorite-car = \"Delorean\""
      ],
      "execution_count": 23,
      "outputs": [
        {
          "output_type": "error",
          "ename": "SyntaxError",
          "evalue": "ignored",
          "traceback": [
            "\u001b[0;36m  File \u001b[0;32m\"<ipython-input-23-829f5ed5b10b>\"\u001b[0;36m, line \u001b[0;32m1\u001b[0m\n\u001b[0;31m    my-favorite-car = \"Delorean\"\u001b[0m\n\u001b[0m                                ^\u001b[0m\n\u001b[0;31mSyntaxError\u001b[0m\u001b[0;31m:\u001b[0m can't assign to operator\n"
          ]
        }
      ]
    },
    {
      "cell_type": "code",
      "metadata": {
        "colab": {
          "base_uri": "https://localhost:8080/",
          "height": 132
        },
        "id": "wN09USi8AjiY",
        "outputId": "64211558-c2f6-4e62-b2b5-94912dcdcbc4"
      },
      "source": [
        "3_musketeers = [\"Athos\", \"Porthos\", \"Aramis\"]"
      ],
      "execution_count": 24,
      "outputs": [
        {
          "output_type": "error",
          "ename": "SyntaxError",
          "evalue": "ignored",
          "traceback": [
            "\u001b[0;36m  File \u001b[0;32m\"<ipython-input-24-41d8638a15bb>\"\u001b[0;36m, line \u001b[0;32m1\u001b[0m\n\u001b[0;31m    3_musketeers = [\"Athos\", \"Porthos\", \"Aramis\"]\u001b[0m\n\u001b[0m     ^\u001b[0m\n\u001b[0;31mSyntaxError\u001b[0m\u001b[0;31m:\u001b[0m invalid token\n"
          ]
        }
      ]
    },
    {
      "cell_type": "markdown",
      "metadata": {
        "id": "dn4ceMa2AjiZ"
      },
      "source": [
        "### Save and upload your notebook\n",
        "\n",
        "Whether you're running this Jupyter notebook online or on your computer, it's essential to save your work from time to time. You can continue working on a saved notebook later or share it with friends and colleagues to let them execute your code. [Jovian](https://www.jovian.ai) offers an easy way of saving and sharing your Jupyter notebooks online."
      ]
    },
    {
      "cell_type": "code",
      "metadata": {
        "id": "ZG_gh2fLAjia"
      },
      "source": [
        "# Install the jovian library\n",
        "!pip install jovian --upgrade --quiet"
      ],
      "execution_count": 25,
      "outputs": []
    },
    {
      "cell_type": "code",
      "metadata": {
        "id": "hbSsTXawAjib"
      },
      "source": [
        "import jovian"
      ],
      "execution_count": 26,
      "outputs": []
    },
    {
      "cell_type": "code",
      "metadata": {
        "colab": {
          "base_uri": "https://localhost:8080/",
          "height": 144
        },
        "id": "5fMyVw8mAjib",
        "outputId": "aa4a0797-7883-473f-cb02-b0ff0a876ed0"
      },
      "source": [
        "jovian.commit(project='python-variables-and-data-types')"
      ],
      "execution_count": 27,
      "outputs": [
        {
          "output_type": "stream",
          "name": "stdout",
          "text": [
            "[jovian] Detected Colab notebook...\u001b[0m\n",
            "[jovian] Please enter your API key ( from https://jovian.ai/ ):\u001b[0m\n",
            "API KEY: ··········\n",
            "[jovian] Uploading colab notebook to Jovian...\u001b[0m\n",
            "Committed successfully! https://jovian.ai/bakarihamisi027/python-variables-and-data-types\n"
          ]
        },
        {
          "output_type": "execute_result",
          "data": {
            "application/vnd.google.colaboratory.intrinsic+json": {
              "type": "string"
            },
            "text/plain": [
              "'https://jovian.ai/bakarihamisi027/python-variables-and-data-types'"
            ]
          },
          "metadata": {},
          "execution_count": 27
        }
      ]
    },
    {
      "cell_type": "markdown",
      "metadata": {
        "id": "hbGRWz36Ajic"
      },
      "source": [
        "The first time you run `jovian.commit`, you'll be asked to provide an API Key to securely upload the notebook to your Jovian account. You can get the API key from your [Jovian profile page](https://jovian.ai) after logging in / signing up.\n",
        "\n",
        "\n",
        "`jovian.commit` uploads the notebook to your Jovian account, captures the Python environment, and creates a shareable link for your notebook, as shown above. You can use this link to share your work and let anyone (including you) run your notebooks and reproduce your work."
      ]
    },
    {
      "cell_type": "markdown",
      "metadata": {
        "id": "jgxdBW2tAjid"
      },
      "source": [
        "## Built-in data types in Python\n",
        "\n",
        "Any data or information stored within a Python variable has a *type*. You can view the type of data stored within a variable using the `type` function."
      ]
    },
    {
      "cell_type": "code",
      "metadata": {
        "colab": {
          "base_uri": "https://localhost:8080/"
        },
        "id": "lRoYCDDwAjid",
        "outputId": "f6a1c4bd-2db3-44ef-c7ae-1be2f7daf7a1"
      },
      "source": [
        "a_variable"
      ],
      "execution_count": 28,
      "outputs": [
        {
          "output_type": "execute_result",
          "data": {
            "text/plain": [
              "23"
            ]
          },
          "metadata": {},
          "execution_count": 28
        }
      ]
    },
    {
      "cell_type": "code",
      "metadata": {
        "colab": {
          "base_uri": "https://localhost:8080/"
        },
        "id": "GqW2074DAjie",
        "outputId": "2d1dbb4f-b547-4644-eda7-190bc2aeae59"
      },
      "source": [
        "type(a_variable)"
      ],
      "execution_count": 29,
      "outputs": [
        {
          "output_type": "execute_result",
          "data": {
            "text/plain": [
              "int"
            ]
          },
          "metadata": {},
          "execution_count": 29
        }
      ]
    },
    {
      "cell_type": "code",
      "metadata": {
        "colab": {
          "base_uri": "https://localhost:8080/"
        },
        "id": "eC1Do7OjAjie",
        "outputId": "49959251-e095-42a3-bff7-716f94672c86"
      },
      "source": [
        "is_today_Saturday"
      ],
      "execution_count": 30,
      "outputs": [
        {
          "output_type": "execute_result",
          "data": {
            "text/plain": [
              "False"
            ]
          },
          "metadata": {},
          "execution_count": 30
        }
      ]
    },
    {
      "cell_type": "code",
      "metadata": {
        "colab": {
          "base_uri": "https://localhost:8080/"
        },
        "id": "s2IhqPRBAjie",
        "outputId": "eb54868d-ba23-4644-863a-fdea8a093a57"
      },
      "source": [
        "type(is_today_Saturday)"
      ],
      "execution_count": 31,
      "outputs": [
        {
          "output_type": "execute_result",
          "data": {
            "text/plain": [
              "bool"
            ]
          },
          "metadata": {},
          "execution_count": 31
        }
      ]
    },
    {
      "cell_type": "code",
      "metadata": {
        "colab": {
          "base_uri": "https://localhost:8080/",
          "height": 35
        },
        "id": "2BxSxg1iAjif",
        "outputId": "2d014bee-da93-4f0a-8744-e88f29c62f17"
      },
      "source": [
        "my_favorite_car"
      ],
      "execution_count": 32,
      "outputs": [
        {
          "output_type": "execute_result",
          "data": {
            "application/vnd.google.colaboratory.intrinsic+json": {
              "type": "string"
            },
            "text/plain": [
              "'Delorean'"
            ]
          },
          "metadata": {},
          "execution_count": 32
        }
      ]
    },
    {
      "cell_type": "code",
      "metadata": {
        "colab": {
          "base_uri": "https://localhost:8080/"
        },
        "id": "JSIjpLh8Ajif",
        "outputId": "064b163d-90bf-4d38-e361-75b276e49a3f"
      },
      "source": [
        "type(my_favorite_car)"
      ],
      "execution_count": 33,
      "outputs": [
        {
          "output_type": "execute_result",
          "data": {
            "text/plain": [
              "str"
            ]
          },
          "metadata": {},
          "execution_count": 33
        }
      ]
    },
    {
      "cell_type": "code",
      "metadata": {
        "colab": {
          "base_uri": "https://localhost:8080/"
        },
        "id": "0rFPPZmfAjig",
        "outputId": "bdfe06ba-76b4-4e66-8e9f-d3bcb4a3cfa8"
      },
      "source": [
        "the_3_musketeers"
      ],
      "execution_count": 34,
      "outputs": [
        {
          "output_type": "execute_result",
          "data": {
            "text/plain": [
              "['Athos', 'Porthos', 'Aramis']"
            ]
          },
          "metadata": {},
          "execution_count": 34
        }
      ]
    },
    {
      "cell_type": "code",
      "metadata": {
        "colab": {
          "base_uri": "https://localhost:8080/"
        },
        "id": "NF0nNTN4Ajig",
        "outputId": "f0cff0a2-0048-41c0-ca81-4dd11b2e519f"
      },
      "source": [
        "type(the_3_musketeers)"
      ],
      "execution_count": 35,
      "outputs": [
        {
          "output_type": "execute_result",
          "data": {
            "text/plain": [
              "list"
            ]
          },
          "metadata": {},
          "execution_count": 35
        }
      ]
    },
    {
      "cell_type": "markdown",
      "metadata": {
        "id": "YOJrUkPlAjih"
      },
      "source": [
        "Python has several built-in data types for storing different kinds of information in variables. Following are some commonly used data types:\n",
        "\n",
        "1. Integer\n",
        "2. Float\n",
        "3. Boolean\n",
        "4. None\n",
        "5. String\n",
        "6. List\n",
        "7. Tuple\n",
        "8. Dictionary\n",
        "\n",
        "Integer, float, boolean, None, and string are *primitive data types* because they represent a single value. Other data types like list, tuple, and dictionary are often called *data structures* or *containers* because they hold multiple pieces of data together."
      ]
    },
    {
      "cell_type": "markdown",
      "metadata": {
        "id": "SjsajZocAjih"
      },
      "source": [
        "### Integer\n",
        "\n",
        "Integers represent positive or negative whole numbers, from negative infinity to infinity. Note that integers should not include decimal points. Integers have the type `int`."
      ]
    },
    {
      "cell_type": "code",
      "metadata": {
        "id": "uQaCeF9uAjii"
      },
      "source": [
        "current_year = 2020"
      ],
      "execution_count": 36,
      "outputs": []
    },
    {
      "cell_type": "code",
      "metadata": {
        "colab": {
          "base_uri": "https://localhost:8080/"
        },
        "id": "8rE6JriAAjii",
        "outputId": "601fd419-4ea5-4b35-c938-e5852d7a1bdd"
      },
      "source": [
        "current_year"
      ],
      "execution_count": 37,
      "outputs": [
        {
          "output_type": "execute_result",
          "data": {
            "text/plain": [
              "2020"
            ]
          },
          "metadata": {},
          "execution_count": 37
        }
      ]
    },
    {
      "cell_type": "code",
      "metadata": {
        "colab": {
          "base_uri": "https://localhost:8080/"
        },
        "id": "7rr4pUvTAjij",
        "outputId": "d060363d-ac58-4cfd-ae6c-b840e0371459"
      },
      "source": [
        "type(current_year)"
      ],
      "execution_count": 38,
      "outputs": [
        {
          "output_type": "execute_result",
          "data": {
            "text/plain": [
              "int"
            ]
          },
          "metadata": {},
          "execution_count": 38
        }
      ]
    },
    {
      "cell_type": "markdown",
      "metadata": {
        "id": "p01AWEx5Ajij"
      },
      "source": [
        "Unlike some other programming languages, integers in Python can be arbitrarily large (or small). There's no lowest or highest value for integers, and there's just one `int` type (as opposed to `short`, `int`, `long`, `long long`, `unsigned int`, etc. in C/C++/Java)."
      ]
    },
    {
      "cell_type": "code",
      "metadata": {
        "id": "6_MGQCvSAjik"
      },
      "source": [
        "a_large_negative_number = -23374038374832934334234317348343"
      ],
      "execution_count": 39,
      "outputs": []
    },
    {
      "cell_type": "code",
      "metadata": {
        "colab": {
          "base_uri": "https://localhost:8080/"
        },
        "id": "ZYIHoToHAjik",
        "outputId": "fcf69be1-f396-4fe0-8adc-d47756473601"
      },
      "source": [
        "a_large_negative_number"
      ],
      "execution_count": 40,
      "outputs": [
        {
          "output_type": "execute_result",
          "data": {
            "text/plain": [
              "-23374038374832934334234317348343"
            ]
          },
          "metadata": {},
          "execution_count": 40
        }
      ]
    },
    {
      "cell_type": "code",
      "metadata": {
        "colab": {
          "base_uri": "https://localhost:8080/"
        },
        "id": "XUW_Cvt2Ajil",
        "outputId": "6238096a-9854-4eb2-a721-6c4b01e36595"
      },
      "source": [
        "type(a_large_negative_number)"
      ],
      "execution_count": 41,
      "outputs": [
        {
          "output_type": "execute_result",
          "data": {
            "text/plain": [
              "int"
            ]
          },
          "metadata": {},
          "execution_count": 41
        }
      ]
    },
    {
      "cell_type": "markdown",
      "metadata": {
        "id": "mk4IY9qHAjim"
      },
      "source": [
        "### Float\n",
        "\n",
        "Floats (or floating-point numbers) are numbers with a decimal point. There are no limits on the value or the number of digits before or after the decimal point. Floating-point numbers have the type `float`."
      ]
    },
    {
      "cell_type": "code",
      "metadata": {
        "id": "u69CHOr9Ajim"
      },
      "source": [
        "pi = 3.141592653589793238"
      ],
      "execution_count": 42,
      "outputs": []
    },
    {
      "cell_type": "code",
      "metadata": {
        "colab": {
          "base_uri": "https://localhost:8080/"
        },
        "id": "kmWtBADhAjin",
        "outputId": "eff16d6f-f08a-4baf-8a59-120f3b8cac86"
      },
      "source": [
        "pi"
      ],
      "execution_count": 43,
      "outputs": [
        {
          "output_type": "execute_result",
          "data": {
            "text/plain": [
              "3.141592653589793"
            ]
          },
          "metadata": {},
          "execution_count": 43
        }
      ]
    },
    {
      "cell_type": "code",
      "metadata": {
        "colab": {
          "base_uri": "https://localhost:8080/"
        },
        "id": "Q4x17LpfAjin",
        "outputId": "5f4445bc-e375-42ab-b5dc-a652481fb99c"
      },
      "source": [
        "type(pi)"
      ],
      "execution_count": 44,
      "outputs": [
        {
          "output_type": "execute_result",
          "data": {
            "text/plain": [
              "float"
            ]
          },
          "metadata": {},
          "execution_count": 44
        }
      ]
    },
    {
      "cell_type": "markdown",
      "metadata": {
        "id": "IjpfxZR_Ajio"
      },
      "source": [
        "Note that a whole number is treated as a float if written with a decimal point, even though the decimal portion of the number is zero."
      ]
    },
    {
      "cell_type": "code",
      "metadata": {
        "id": "8jWdprG0Ajip"
      },
      "source": [
        "a_number = 3.0"
      ],
      "execution_count": 45,
      "outputs": []
    },
    {
      "cell_type": "code",
      "metadata": {
        "colab": {
          "base_uri": "https://localhost:8080/"
        },
        "id": "G3XZ_173Ajip",
        "outputId": "859dbd3e-460c-454d-fa0a-16034c3cbe52"
      },
      "source": [
        "a_number"
      ],
      "execution_count": 46,
      "outputs": [
        {
          "output_type": "execute_result",
          "data": {
            "text/plain": [
              "3.0"
            ]
          },
          "metadata": {},
          "execution_count": 46
        }
      ]
    },
    {
      "cell_type": "code",
      "metadata": {
        "colab": {
          "base_uri": "https://localhost:8080/"
        },
        "id": "6-Q424eCAjiq",
        "outputId": "c9905b01-c510-4866-dc26-66a83347232f"
      },
      "source": [
        "type(a_number)"
      ],
      "execution_count": 47,
      "outputs": [
        {
          "output_type": "execute_result",
          "data": {
            "text/plain": [
              "float"
            ]
          },
          "metadata": {},
          "execution_count": 47
        }
      ]
    },
    {
      "cell_type": "code",
      "metadata": {
        "id": "7H657ptHAjiq"
      },
      "source": [
        "another_number = 4."
      ],
      "execution_count": 48,
      "outputs": []
    },
    {
      "cell_type": "code",
      "metadata": {
        "colab": {
          "base_uri": "https://localhost:8080/"
        },
        "id": "7hATCpB2Ajir",
        "outputId": "2f3eac00-b04b-48de-ad2f-e7b9850393b6"
      },
      "source": [
        "another_number"
      ],
      "execution_count": 49,
      "outputs": [
        {
          "output_type": "execute_result",
          "data": {
            "text/plain": [
              "4.0"
            ]
          },
          "metadata": {},
          "execution_count": 49
        }
      ]
    },
    {
      "cell_type": "code",
      "metadata": {
        "colab": {
          "base_uri": "https://localhost:8080/"
        },
        "id": "l4_1Xt6hAjis",
        "outputId": "a3ae2468-3187-497c-e8de-8c9aaa5772f3"
      },
      "source": [
        "type(another_number)"
      ],
      "execution_count": 50,
      "outputs": [
        {
          "output_type": "execute_result",
          "data": {
            "text/plain": [
              "float"
            ]
          },
          "metadata": {},
          "execution_count": 50
        }
      ]
    },
    {
      "cell_type": "markdown",
      "metadata": {
        "id": "Cg1uTLWRAjit"
      },
      "source": [
        "Floating point numbers can also be written using the scientific notation with an \"e\" to indicate the power of 10."
      ]
    },
    {
      "cell_type": "code",
      "metadata": {
        "id": "9Pvzk5W4Ajit"
      },
      "source": [
        "one_hundredth = 1e-2"
      ],
      "execution_count": 51,
      "outputs": []
    },
    {
      "cell_type": "code",
      "metadata": {
        "colab": {
          "base_uri": "https://localhost:8080/"
        },
        "id": "3sXvFQmXAjiu",
        "outputId": "f654b37d-c470-4a9f-df2e-8565d8976d66"
      },
      "source": [
        "one_hundredth"
      ],
      "execution_count": 52,
      "outputs": [
        {
          "output_type": "execute_result",
          "data": {
            "text/plain": [
              "0.01"
            ]
          },
          "metadata": {},
          "execution_count": 52
        }
      ]
    },
    {
      "cell_type": "code",
      "metadata": {
        "colab": {
          "base_uri": "https://localhost:8080/"
        },
        "id": "4bnyVVgpAjiu",
        "outputId": "5ac483c2-3346-4451-f6ad-99ad0e3b4aa0"
      },
      "source": [
        "type(one_hundredth)"
      ],
      "execution_count": 53,
      "outputs": [
        {
          "output_type": "execute_result",
          "data": {
            "text/plain": [
              "float"
            ]
          },
          "metadata": {},
          "execution_count": 53
        }
      ]
    },
    {
      "cell_type": "code",
      "metadata": {
        "id": "_yd8xHmVAjiv"
      },
      "source": [
        "avogadro_number = 6.02214076e23"
      ],
      "execution_count": 54,
      "outputs": []
    },
    {
      "cell_type": "code",
      "metadata": {
        "colab": {
          "base_uri": "https://localhost:8080/"
        },
        "id": "th032j6IAjiv",
        "outputId": "eed684fa-71eb-489b-dd2f-588cf7fc320a"
      },
      "source": [
        "avogadro_number"
      ],
      "execution_count": 55,
      "outputs": [
        {
          "output_type": "execute_result",
          "data": {
            "text/plain": [
              "6.02214076e+23"
            ]
          },
          "metadata": {},
          "execution_count": 55
        }
      ]
    },
    {
      "cell_type": "code",
      "metadata": {
        "colab": {
          "base_uri": "https://localhost:8080/"
        },
        "id": "TwvWqbK-Ajiv",
        "outputId": "708c4bd6-ee3f-4e8f-b0e6-cdb144bb1523"
      },
      "source": [
        "type(avogadro_number)"
      ],
      "execution_count": 56,
      "outputs": [
        {
          "output_type": "execute_result",
          "data": {
            "text/plain": [
              "float"
            ]
          },
          "metadata": {},
          "execution_count": 56
        }
      ]
    },
    {
      "cell_type": "markdown",
      "metadata": {
        "id": "-Mca7A3QAjiw"
      },
      "source": [
        "You can convert floats into integers and vice versa using the `float` and `int` functions. The operation of converting one type of value into another is called casting."
      ]
    },
    {
      "cell_type": "code",
      "metadata": {
        "colab": {
          "base_uri": "https://localhost:8080/"
        },
        "id": "l6QlMa1lAjiw",
        "outputId": "15ff0661-efe5-4697-ab6b-f9e0604536ad"
      },
      "source": [
        "float(current_year)"
      ],
      "execution_count": 57,
      "outputs": [
        {
          "output_type": "execute_result",
          "data": {
            "text/plain": [
              "2020.0"
            ]
          },
          "metadata": {},
          "execution_count": 57
        }
      ]
    },
    {
      "cell_type": "code",
      "metadata": {
        "colab": {
          "base_uri": "https://localhost:8080/"
        },
        "id": "HNZaKlvkAjix",
        "outputId": "fcf84b1e-0661-4c8c-e476-d38cf3557d4e"
      },
      "source": [
        "float(a_large_negative_number)"
      ],
      "execution_count": 58,
      "outputs": [
        {
          "output_type": "execute_result",
          "data": {
            "text/plain": [
              "-2.3374038374832935e+31"
            ]
          },
          "metadata": {},
          "execution_count": 58
        }
      ]
    },
    {
      "cell_type": "code",
      "metadata": {
        "colab": {
          "base_uri": "https://localhost:8080/"
        },
        "id": "IlD0CrDZAjix",
        "outputId": "21e487aa-eb61-46c9-a038-5b588df86ccf"
      },
      "source": [
        "int(pi)"
      ],
      "execution_count": 59,
      "outputs": [
        {
          "output_type": "execute_result",
          "data": {
            "text/plain": [
              "3"
            ]
          },
          "metadata": {},
          "execution_count": 59
        }
      ]
    },
    {
      "cell_type": "code",
      "metadata": {
        "colab": {
          "base_uri": "https://localhost:8080/"
        },
        "id": "yYGLoHm7Ajix",
        "outputId": "1f3e8066-6b14-46d7-a4e1-99b682364cba"
      },
      "source": [
        "int(avogadro_number)"
      ],
      "execution_count": 60,
      "outputs": [
        {
          "output_type": "execute_result",
          "data": {
            "text/plain": [
              "602214075999999987023872"
            ]
          },
          "metadata": {},
          "execution_count": 60
        }
      ]
    },
    {
      "cell_type": "markdown",
      "metadata": {
        "id": "YyPTamHNAjiy"
      },
      "source": [
        "While performing arithmetic operations, integers are automatically converted to `float`s if any of the operands is a `float`. Also, the division operator `/` always returns a `float`, even if both operands are integers. Use the `//` operator if you want the result of the division to be an `int`."
      ]
    },
    {
      "cell_type": "code",
      "metadata": {
        "colab": {
          "base_uri": "https://localhost:8080/"
        },
        "id": "oLm-s0ciAjiy",
        "outputId": "658f80c7-a082-42af-e9d6-fd3561079635"
      },
      "source": [
        "type(45 * 3.0)"
      ],
      "execution_count": 61,
      "outputs": [
        {
          "output_type": "execute_result",
          "data": {
            "text/plain": [
              "float"
            ]
          },
          "metadata": {},
          "execution_count": 61
        }
      ]
    },
    {
      "cell_type": "code",
      "metadata": {
        "colab": {
          "base_uri": "https://localhost:8080/"
        },
        "id": "BqVYur6zAjiy",
        "outputId": "7bc9a963-9eea-430f-dddb-839d4a56ffca"
      },
      "source": [
        "type(45 * 3)"
      ],
      "execution_count": 62,
      "outputs": [
        {
          "output_type": "execute_result",
          "data": {
            "text/plain": [
              "int"
            ]
          },
          "metadata": {},
          "execution_count": 62
        }
      ]
    },
    {
      "cell_type": "code",
      "metadata": {
        "colab": {
          "base_uri": "https://localhost:8080/"
        },
        "id": "pdTYWqI1Ajiz",
        "outputId": "dafb455f-fe2a-47f5-af3d-66f832824117"
      },
      "source": [
        "type(10/3)"
      ],
      "execution_count": 63,
      "outputs": [
        {
          "output_type": "execute_result",
          "data": {
            "text/plain": [
              "float"
            ]
          },
          "metadata": {},
          "execution_count": 63
        }
      ]
    },
    {
      "cell_type": "code",
      "metadata": {
        "colab": {
          "base_uri": "https://localhost:8080/"
        },
        "id": "2PxeB3iuAjiz",
        "outputId": "8c4d6d32-a61c-4df7-8aaa-27a7dec49fd6"
      },
      "source": [
        "type(10/2)"
      ],
      "execution_count": 64,
      "outputs": [
        {
          "output_type": "execute_result",
          "data": {
            "text/plain": [
              "float"
            ]
          },
          "metadata": {},
          "execution_count": 64
        }
      ]
    },
    {
      "cell_type": "code",
      "metadata": {
        "colab": {
          "base_uri": "https://localhost:8080/"
        },
        "id": "EEoAAG0HAji0",
        "outputId": "a7fda27f-bbdc-4c56-96b4-151de96adaa3"
      },
      "source": [
        "type(10//2)"
      ],
      "execution_count": 65,
      "outputs": [
        {
          "output_type": "execute_result",
          "data": {
            "text/plain": [
              "int"
            ]
          },
          "metadata": {},
          "execution_count": 65
        }
      ]
    },
    {
      "cell_type": "markdown",
      "metadata": {
        "id": "rDMlhF8PAji0"
      },
      "source": [
        "### Boolean\n",
        "\n",
        "Booleans represent one of 2 values: `True` and `False`. Booleans have the type `bool`."
      ]
    },
    {
      "cell_type": "code",
      "metadata": {
        "id": "hJiQ16QeAji0"
      },
      "source": [
        "is_today_Sunday = True"
      ],
      "execution_count": 66,
      "outputs": []
    },
    {
      "cell_type": "code",
      "metadata": {
        "colab": {
          "base_uri": "https://localhost:8080/"
        },
        "id": "lv96D-N2Aji1",
        "outputId": "6f99ce88-7020-470e-d07b-b0d2ebb97c23"
      },
      "source": [
        "is_today_Sunday"
      ],
      "execution_count": 67,
      "outputs": [
        {
          "output_type": "execute_result",
          "data": {
            "text/plain": [
              "True"
            ]
          },
          "metadata": {},
          "execution_count": 67
        }
      ]
    },
    {
      "cell_type": "code",
      "metadata": {
        "colab": {
          "base_uri": "https://localhost:8080/"
        },
        "id": "CaJ56_SxAji1",
        "outputId": "6b021737-aab7-471a-a8c5-675e1fce958b"
      },
      "source": [
        "type(is_today_Saturday)"
      ],
      "execution_count": 68,
      "outputs": [
        {
          "output_type": "execute_result",
          "data": {
            "text/plain": [
              "bool"
            ]
          },
          "metadata": {},
          "execution_count": 68
        }
      ]
    },
    {
      "cell_type": "markdown",
      "metadata": {
        "id": "dXwZ4ek9Aji2"
      },
      "source": [
        "Booleans are generally the result of a comparison operation, e.g., `==`, `>=`, etc."
      ]
    },
    {
      "cell_type": "code",
      "metadata": {
        "id": "8YqwFprwAji2"
      },
      "source": [
        "cost_of_ice_bag = 1.25\n",
        "is_ice_bag_expensive = cost_of_ice_bag >= 10"
      ],
      "execution_count": 69,
      "outputs": []
    },
    {
      "cell_type": "code",
      "metadata": {
        "colab": {
          "base_uri": "https://localhost:8080/"
        },
        "id": "szWyvozYAji2",
        "outputId": "ccad11c0-9c89-447b-8c4f-3ca5a75274a5"
      },
      "source": [
        "is_ice_bag_expensive"
      ],
      "execution_count": 70,
      "outputs": [
        {
          "output_type": "execute_result",
          "data": {
            "text/plain": [
              "False"
            ]
          },
          "metadata": {},
          "execution_count": 70
        }
      ]
    },
    {
      "cell_type": "code",
      "metadata": {
        "colab": {
          "base_uri": "https://localhost:8080/"
        },
        "id": "V2zqvZeVAji3",
        "outputId": "ff5a7cd2-2063-4f93-c84f-f3bf98144849"
      },
      "source": [
        "type(is_ice_bag_expensive)"
      ],
      "execution_count": 71,
      "outputs": [
        {
          "output_type": "execute_result",
          "data": {
            "text/plain": [
              "bool"
            ]
          },
          "metadata": {},
          "execution_count": 71
        }
      ]
    },
    {
      "cell_type": "markdown",
      "metadata": {
        "id": "lkEp9BccAji3"
      },
      "source": [
        "Booleans are automatically converted to `int`s when used in arithmetic operations. `True` is converted to `1` and `False` is converted to `0`."
      ]
    },
    {
      "cell_type": "code",
      "metadata": {
        "colab": {
          "base_uri": "https://localhost:8080/"
        },
        "id": "QHu3W6fIAji3",
        "outputId": "0f85ce7e-4fad-43eb-96ca-f64bd9ee5dfc"
      },
      "source": [
        "5 + False"
      ],
      "execution_count": 72,
      "outputs": [
        {
          "output_type": "execute_result",
          "data": {
            "text/plain": [
              "5"
            ]
          },
          "metadata": {},
          "execution_count": 72
        }
      ]
    },
    {
      "cell_type": "code",
      "metadata": {
        "colab": {
          "base_uri": "https://localhost:8080/"
        },
        "id": "8CYJ5aeLAji4",
        "outputId": "d03df50c-7511-4d53-ad61-cca5fff69189"
      },
      "source": [
        "3. + True"
      ],
      "execution_count": 73,
      "outputs": [
        {
          "output_type": "execute_result",
          "data": {
            "text/plain": [
              "4.0"
            ]
          },
          "metadata": {},
          "execution_count": 73
        }
      ]
    },
    {
      "cell_type": "markdown",
      "metadata": {
        "id": "e7opO48WAji4"
      },
      "source": [
        "Any value in Python can be converted to a Boolean using the `bool` function. \n",
        "\n",
        "Only the following values evaluate to `False` (they are often called *falsy* values):\n",
        "\n",
        "1. The value `False` itself\n",
        "2. The integer `0`\n",
        "3. The float `0.0`\n",
        "4. The empty value `None`\n",
        "5. The empty text `\"\"`\n",
        "6. The empty list `[]`\n",
        "7. The empty tuple `()`\n",
        "8. The empty dictionary `{}`\n",
        "9. The empty set `set()`\n",
        "10. The empty range `range(0)`\n",
        "\n",
        "Everything else evaluates to `True` (a value that evaluates to `True` is often called a *truthy* value)."
      ]
    },
    {
      "cell_type": "code",
      "metadata": {
        "colab": {
          "base_uri": "https://localhost:8080/"
        },
        "id": "tgf5fPEzAji5",
        "outputId": "8a4eee01-7c77-481b-f8f4-c494ed7dad2e"
      },
      "source": [
        "bool(False)"
      ],
      "execution_count": 74,
      "outputs": [
        {
          "output_type": "execute_result",
          "data": {
            "text/plain": [
              "False"
            ]
          },
          "metadata": {},
          "execution_count": 74
        }
      ]
    },
    {
      "cell_type": "code",
      "metadata": {
        "colab": {
          "base_uri": "https://localhost:8080/"
        },
        "id": "ubppvaJCAji5",
        "outputId": "f237ccc7-3eab-4454-f667-39531ce27d6f"
      },
      "source": [
        "bool(0)"
      ],
      "execution_count": 75,
      "outputs": [
        {
          "output_type": "execute_result",
          "data": {
            "text/plain": [
              "False"
            ]
          },
          "metadata": {},
          "execution_count": 75
        }
      ]
    },
    {
      "cell_type": "code",
      "metadata": {
        "colab": {
          "base_uri": "https://localhost:8080/"
        },
        "id": "dPyO0AFgAji5",
        "outputId": "3e96e063-f531-4661-be87-c7efca35a241"
      },
      "source": [
        "bool(0.0)"
      ],
      "execution_count": 76,
      "outputs": [
        {
          "output_type": "execute_result",
          "data": {
            "text/plain": [
              "False"
            ]
          },
          "metadata": {},
          "execution_count": 76
        }
      ]
    },
    {
      "cell_type": "code",
      "metadata": {
        "colab": {
          "base_uri": "https://localhost:8080/"
        },
        "id": "lL8ezbS9Aji6",
        "outputId": "6a335e06-c84d-4bb8-b02a-a75ff4942ad8"
      },
      "source": [
        "bool(None)"
      ],
      "execution_count": 77,
      "outputs": [
        {
          "output_type": "execute_result",
          "data": {
            "text/plain": [
              "False"
            ]
          },
          "metadata": {},
          "execution_count": 77
        }
      ]
    },
    {
      "cell_type": "code",
      "metadata": {
        "colab": {
          "base_uri": "https://localhost:8080/"
        },
        "id": "8sWYtM3VAji9",
        "outputId": "08c9dd19-efdb-40a0-ee4b-2c0773bca1c5"
      },
      "source": [
        "bool(\"\")"
      ],
      "execution_count": 78,
      "outputs": [
        {
          "output_type": "execute_result",
          "data": {
            "text/plain": [
              "False"
            ]
          },
          "metadata": {},
          "execution_count": 78
        }
      ]
    },
    {
      "cell_type": "code",
      "metadata": {
        "colab": {
          "base_uri": "https://localhost:8080/"
        },
        "id": "bWoFCd6mAji-",
        "outputId": "01004182-b8f6-45ea-f38c-1983c0853b64"
      },
      "source": [
        "bool([])"
      ],
      "execution_count": 79,
      "outputs": [
        {
          "output_type": "execute_result",
          "data": {
            "text/plain": [
              "False"
            ]
          },
          "metadata": {},
          "execution_count": 79
        }
      ]
    },
    {
      "cell_type": "code",
      "metadata": {
        "colab": {
          "base_uri": "https://localhost:8080/"
        },
        "id": "59BqM0TWAji_",
        "outputId": "0fa8133a-f121-4293-9459-9efb3dbce650"
      },
      "source": [
        "bool(())"
      ],
      "execution_count": 80,
      "outputs": [
        {
          "output_type": "execute_result",
          "data": {
            "text/plain": [
              "False"
            ]
          },
          "metadata": {},
          "execution_count": 80
        }
      ]
    },
    {
      "cell_type": "code",
      "metadata": {
        "colab": {
          "base_uri": "https://localhost:8080/"
        },
        "id": "TsZVGBHNAji_",
        "outputId": "14c11461-b4fb-462a-9873-97b76107ee54"
      },
      "source": [
        "bool({})"
      ],
      "execution_count": 81,
      "outputs": [
        {
          "output_type": "execute_result",
          "data": {
            "text/plain": [
              "False"
            ]
          },
          "metadata": {},
          "execution_count": 81
        }
      ]
    },
    {
      "cell_type": "code",
      "metadata": {
        "colab": {
          "base_uri": "https://localhost:8080/"
        },
        "id": "zE9aQ4KpAjjA",
        "outputId": "157d7550-a800-415e-8188-9130db1a5087"
      },
      "source": [
        "bool(set())"
      ],
      "execution_count": 82,
      "outputs": [
        {
          "output_type": "execute_result",
          "data": {
            "text/plain": [
              "False"
            ]
          },
          "metadata": {},
          "execution_count": 82
        }
      ]
    },
    {
      "cell_type": "code",
      "metadata": {
        "colab": {
          "base_uri": "https://localhost:8080/"
        },
        "id": "QmiloDCLAjjB",
        "outputId": "4095fed6-45f6-47ea-c947-be0991eddee6"
      },
      "source": [
        "bool(range(0))"
      ],
      "execution_count": 83,
      "outputs": [
        {
          "output_type": "execute_result",
          "data": {
            "text/plain": [
              "False"
            ]
          },
          "metadata": {},
          "execution_count": 83
        }
      ]
    },
    {
      "cell_type": "code",
      "metadata": {
        "colab": {
          "base_uri": "https://localhost:8080/"
        },
        "id": "Xz7fgqdpAjjC",
        "outputId": "4495675a-83e0-497d-d89e-a2061c460f63"
      },
      "source": [
        "bool(True), bool(1), bool(2.0), bool(\"hello\"), bool([1,2]), bool((2,3)), bool(range(10))"
      ],
      "execution_count": 84,
      "outputs": [
        {
          "output_type": "execute_result",
          "data": {
            "text/plain": [
              "(True, True, True, True, True, True, True)"
            ]
          },
          "metadata": {},
          "execution_count": 84
        }
      ]
    },
    {
      "cell_type": "markdown",
      "metadata": {
        "id": "IOqVub6mAjjC"
      },
      "source": [
        "### None\n",
        "\n",
        "The None type includes a single value `None`, used to indicate the absence of a value. `None` has the type `NoneType`. It is often used to declare a variable whose value may be assigned later."
      ]
    },
    {
      "cell_type": "code",
      "metadata": {
        "id": "Cyk2Cu87AjjD"
      },
      "source": [
        "nothing = None"
      ],
      "execution_count": 85,
      "outputs": []
    },
    {
      "cell_type": "code",
      "metadata": {
        "colab": {
          "base_uri": "https://localhost:8080/"
        },
        "id": "znKPCX-cAjjE",
        "outputId": "f0d6d0fc-dadb-48f2-e114-1fed710467ef"
      },
      "source": [
        "type(nothing)"
      ],
      "execution_count": 86,
      "outputs": [
        {
          "output_type": "execute_result",
          "data": {
            "text/plain": [
              "NoneType"
            ]
          },
          "metadata": {},
          "execution_count": 86
        }
      ]
    },
    {
      "cell_type": "markdown",
      "metadata": {
        "id": "_CRTuUTTAjjF"
      },
      "source": [
        "### String\n",
        "\n",
        "A string is used to represent text (*a string of characters*) in Python. Strings must be surrounded using quotations (either the single quote `'` or the double quote `\"`). Strings have the type `string`."
      ]
    },
    {
      "cell_type": "code",
      "metadata": {
        "id": "1yJFFTf2AjjF"
      },
      "source": [
        "today = \"Saturday\""
      ],
      "execution_count": 87,
      "outputs": []
    },
    {
      "cell_type": "code",
      "metadata": {
        "id": "gYrOiNXFAjjG",
        "outputId": "d247bdd0-3ae0-486d-880a-8275753c3b03"
      },
      "source": [
        "today"
      ],
      "execution_count": null,
      "outputs": [
        {
          "data": {
            "text/plain": [
              "'Saturday'"
            ]
          },
          "execution_count": 87,
          "metadata": {},
          "output_type": "execute_result"
        }
      ]
    },
    {
      "cell_type": "code",
      "metadata": {
        "colab": {
          "base_uri": "https://localhost:8080/"
        },
        "id": "-pwTN9yVAjjH",
        "outputId": "c239c396-c92e-4042-e8d5-d01f6f31b701"
      },
      "source": [
        "type(today)"
      ],
      "execution_count": 88,
      "outputs": [
        {
          "output_type": "execute_result",
          "data": {
            "text/plain": [
              "str"
            ]
          },
          "metadata": {},
          "execution_count": 88
        }
      ]
    },
    {
      "cell_type": "markdown",
      "metadata": {
        "id": "vTtyC7PNAjjH"
      },
      "source": [
        "You can use single quotes inside a string written with double quotes, and vice versa."
      ]
    },
    {
      "cell_type": "code",
      "metadata": {
        "id": "koG1cGHkAjjI"
      },
      "source": [
        "my_favorite_movie = \"One Flew over the Cuckoo's Nest\" "
      ],
      "execution_count": 89,
      "outputs": []
    },
    {
      "cell_type": "code",
      "metadata": {
        "colab": {
          "base_uri": "https://localhost:8080/",
          "height": 35
        },
        "id": "7vTzECvzAjjI",
        "outputId": "4e1db233-2542-4b9c-ac31-3300688dcf9a"
      },
      "source": [
        "my_favorite_movie"
      ],
      "execution_count": 90,
      "outputs": [
        {
          "output_type": "execute_result",
          "data": {
            "application/vnd.google.colaboratory.intrinsic+json": {
              "type": "string"
            },
            "text/plain": [
              "\"One Flew over the Cuckoo's Nest\""
            ]
          },
          "metadata": {},
          "execution_count": 90
        }
      ]
    },
    {
      "cell_type": "code",
      "metadata": {
        "id": "yZp3t_brAjjI"
      },
      "source": [
        "my_favorite_pun = 'Thanks for explaining the word \"many\" to me, it means a lot.'"
      ],
      "execution_count": 91,
      "outputs": []
    },
    {
      "cell_type": "code",
      "metadata": {
        "colab": {
          "base_uri": "https://localhost:8080/",
          "height": 35
        },
        "id": "dufttJYQAjjJ",
        "outputId": "6daeacb2-363f-4219-d92f-cc30b40a8486"
      },
      "source": [
        "my_favorite_pun"
      ],
      "execution_count": 92,
      "outputs": [
        {
          "output_type": "execute_result",
          "data": {
            "application/vnd.google.colaboratory.intrinsic+json": {
              "type": "string"
            },
            "text/plain": [
              "'Thanks for explaining the word \"many\" to me, it means a lot.'"
            ]
          },
          "metadata": {},
          "execution_count": 92
        }
      ]
    },
    {
      "cell_type": "markdown",
      "metadata": {
        "id": "SqtyD2OrAjjJ"
      },
      "source": [
        "To use a double quote within a string written with double quotes, *escape* the inner quotes by prefixing them with the `\\` character."
      ]
    },
    {
      "cell_type": "code",
      "metadata": {
        "id": "MNg0aEIhAjjJ"
      },
      "source": [
        "another_pun = \"The first time I got a universal remote control, I thought to myself \\\"This changes everything\\\".\""
      ],
      "execution_count": 93,
      "outputs": []
    },
    {
      "cell_type": "code",
      "metadata": {
        "colab": {
          "base_uri": "https://localhost:8080/",
          "height": 53
        },
        "id": "2l4PklpLAjjK",
        "outputId": "6e62bd32-d208-488d-c51f-cba43e9322ae"
      },
      "source": [
        "another_pun"
      ],
      "execution_count": 94,
      "outputs": [
        {
          "output_type": "execute_result",
          "data": {
            "application/vnd.google.colaboratory.intrinsic+json": {
              "type": "string"
            },
            "text/plain": [
              "'The first time I got a universal remote control, I thought to myself \"This changes everything\".'"
            ]
          },
          "metadata": {},
          "execution_count": 94
        }
      ]
    },
    {
      "cell_type": "markdown",
      "metadata": {
        "id": "E42oN8gVAjjK"
      },
      "source": [
        "Strings created using single or double quotes must begin and end on the same line. To create multiline strings, use three single quotes `'''` or three double quotes `\"\"\"` to begin and end the string. Line breaks are represented using the newline character `\\n`."
      ]
    },
    {
      "cell_type": "code",
      "metadata": {
        "id": "WqliR-JOAjjK"
      },
      "source": [
        "yet_another_pun = '''Son: \"Dad, can you tell me what a solar eclipse is?\" \n",
        "Dad: \"No sun.\"'''"
      ],
      "execution_count": 95,
      "outputs": []
    },
    {
      "cell_type": "code",
      "metadata": {
        "colab": {
          "base_uri": "https://localhost:8080/",
          "height": 35
        },
        "id": "XnLXEHqGAjjL",
        "outputId": "73cc4158-4397-4800-aced-0b6f10044dde"
      },
      "source": [
        "yet_another_pun"
      ],
      "execution_count": 96,
      "outputs": [
        {
          "output_type": "execute_result",
          "data": {
            "application/vnd.google.colaboratory.intrinsic+json": {
              "type": "string"
            },
            "text/plain": [
              "'Son: \"Dad, can you tell me what a solar eclipse is?\" \\nDad: \"No sun.\"'"
            ]
          },
          "metadata": {},
          "execution_count": 96
        }
      ]
    },
    {
      "cell_type": "markdown",
      "metadata": {
        "id": "VJkA-pOjAjjL"
      },
      "source": [
        "Multiline strings are best displayed using the `print` function."
      ]
    },
    {
      "cell_type": "code",
      "metadata": {
        "colab": {
          "base_uri": "https://localhost:8080/"
        },
        "id": "QUoyFIEFAjjL",
        "outputId": "cc6ac194-20fd-4806-ec28-bca393a4af09"
      },
      "source": [
        "print(yet_another_pun)"
      ],
      "execution_count": 97,
      "outputs": [
        {
          "output_type": "stream",
          "name": "stdout",
          "text": [
            "Son: \"Dad, can you tell me what a solar eclipse is?\" \n",
            "Dad: \"No sun.\"\n"
          ]
        }
      ]
    },
    {
      "cell_type": "code",
      "metadata": {
        "id": "15obCtErAjjM"
      },
      "source": [
        "a_music_pun = \"\"\"\n",
        "Two windmills are standing in a field and one asks the other, \n",
        "\"What kind of music do you like?\"  \n",
        "\n",
        "The other says, \n",
        "\"I'm a big metal fan.\"\n",
        "\"\"\""
      ],
      "execution_count": 98,
      "outputs": []
    },
    {
      "cell_type": "code",
      "metadata": {
        "colab": {
          "base_uri": "https://localhost:8080/"
        },
        "id": "L4Ftzqb4AjjM",
        "outputId": "97911989-a5de-42af-db50-823da95cf9c3"
      },
      "source": [
        "print(a_music_pun)"
      ],
      "execution_count": 99,
      "outputs": [
        {
          "output_type": "stream",
          "name": "stdout",
          "text": [
            "\n",
            "Two windmills are standing in a field and one asks the other, \n",
            "\"What kind of music do you like?\"  \n",
            "\n",
            "The other says, \n",
            "\"I'm a big metal fan.\"\n",
            "\n"
          ]
        }
      ]
    },
    {
      "cell_type": "markdown",
      "metadata": {
        "id": "GAbrJe7pAjjN"
      },
      "source": [
        "You can check the length of a string using the `len` function."
      ]
    },
    {
      "cell_type": "code",
      "metadata": {
        "colab": {
          "base_uri": "https://localhost:8080/"
        },
        "id": "o3_4gJgzAjjN",
        "outputId": "daa7980d-f13a-4927-e46a-b6d192266c2d"
      },
      "source": [
        "len(my_favorite_movie)"
      ],
      "execution_count": 100,
      "outputs": [
        {
          "output_type": "execute_result",
          "data": {
            "text/plain": [
              "31"
            ]
          },
          "metadata": {},
          "execution_count": 100
        }
      ]
    },
    {
      "cell_type": "markdown",
      "metadata": {
        "id": "GER5QigPAjjN"
      },
      "source": [
        "Note that special characters like `\\n` and escaped characters like `\\\"` count as a single character, even though they are written and sometimes printed as two characters."
      ]
    },
    {
      "cell_type": "code",
      "metadata": {
        "colab": {
          "base_uri": "https://localhost:8080/",
          "height": 35
        },
        "id": "h5YNe3E_AjjO",
        "outputId": "df692adb-14eb-4fb2-a636-fa850e5a1b13"
      },
      "source": [
        "multiline_string = \"\"\"a\n",
        "b\"\"\"\n",
        "multiline_string"
      ],
      "execution_count": 101,
      "outputs": [
        {
          "output_type": "execute_result",
          "data": {
            "application/vnd.google.colaboratory.intrinsic+json": {
              "type": "string"
            },
            "text/plain": [
              "'a\\nb'"
            ]
          },
          "metadata": {},
          "execution_count": 101
        }
      ]
    },
    {
      "cell_type": "code",
      "metadata": {
        "colab": {
          "base_uri": "https://localhost:8080/"
        },
        "id": "9v1mEcE-AjjP",
        "outputId": "7d272f2e-6d1f-427b-9713-9338eb1ef365"
      },
      "source": [
        "len(multiline_string)"
      ],
      "execution_count": 102,
      "outputs": [
        {
          "output_type": "execute_result",
          "data": {
            "text/plain": [
              "3"
            ]
          },
          "metadata": {},
          "execution_count": 102
        }
      ]
    },
    {
      "cell_type": "markdown",
      "metadata": {
        "id": "V_pajUmiAjjP"
      },
      "source": [
        "A string can be converted into a list of characters using `list` function."
      ]
    },
    {
      "cell_type": "code",
      "metadata": {
        "colab": {
          "base_uri": "https://localhost:8080/"
        },
        "id": "90nKycMKAjjQ",
        "outputId": "51551a5a-9443-47f2-a7bd-5b10bf283400"
      },
      "source": [
        "list(multiline_string)"
      ],
      "execution_count": 103,
      "outputs": [
        {
          "output_type": "execute_result",
          "data": {
            "text/plain": [
              "['a', '\\n', 'b']"
            ]
          },
          "metadata": {},
          "execution_count": 103
        }
      ]
    },
    {
      "cell_type": "markdown",
      "metadata": {
        "id": "U4v66t1bAjjQ"
      },
      "source": [
        "Strings also support several list operations, which are discussed in the next section. We'll look at a couple of examples here.\n",
        "\n",
        "You can access individual characters within a string using the `[]` indexing notation. Note the character indices go from `0` to `n-1`, where `n` is the length of the string."
      ]
    },
    {
      "cell_type": "code",
      "metadata": {
        "id": "AX8--y2dAjjQ"
      },
      "source": [
        "today = \"Saturday\""
      ],
      "execution_count": 104,
      "outputs": []
    },
    {
      "cell_type": "code",
      "metadata": {
        "colab": {
          "base_uri": "https://localhost:8080/",
          "height": 35
        },
        "id": "5fjAjJaWAjjR",
        "outputId": "01fa7ce4-9240-4fa0-846d-274fc31382bf"
      },
      "source": [
        "today[0]"
      ],
      "execution_count": 105,
      "outputs": [
        {
          "output_type": "execute_result",
          "data": {
            "application/vnd.google.colaboratory.intrinsic+json": {
              "type": "string"
            },
            "text/plain": [
              "'S'"
            ]
          },
          "metadata": {},
          "execution_count": 105
        }
      ]
    },
    {
      "cell_type": "code",
      "metadata": {
        "colab": {
          "base_uri": "https://localhost:8080/",
          "height": 35
        },
        "id": "LOWYCaG3AjjR",
        "outputId": "085d6bf9-4aff-453f-c01d-96c0400d23a2"
      },
      "source": [
        "today[3]"
      ],
      "execution_count": 106,
      "outputs": [
        {
          "output_type": "execute_result",
          "data": {
            "application/vnd.google.colaboratory.intrinsic+json": {
              "type": "string"
            },
            "text/plain": [
              "'u'"
            ]
          },
          "metadata": {},
          "execution_count": 106
        }
      ]
    },
    {
      "cell_type": "code",
      "metadata": {
        "colab": {
          "base_uri": "https://localhost:8080/",
          "height": 35
        },
        "id": "DHtRanRTAjjS",
        "outputId": "236c3a6c-2653-4ebe-a41d-a3f36f848af1"
      },
      "source": [
        "today[7]"
      ],
      "execution_count": 107,
      "outputs": [
        {
          "output_type": "execute_result",
          "data": {
            "application/vnd.google.colaboratory.intrinsic+json": {
              "type": "string"
            },
            "text/plain": [
              "'y'"
            ]
          },
          "metadata": {},
          "execution_count": 107
        }
      ]
    },
    {
      "cell_type": "markdown",
      "metadata": {
        "id": "oVci6RemAjjS"
      },
      "source": [
        "You can access a part of a string using by providing a `start:end` range instead of a single index in `[]`."
      ]
    },
    {
      "cell_type": "code",
      "metadata": {
        "colab": {
          "base_uri": "https://localhost:8080/",
          "height": 35
        },
        "id": "0VYZNCrtAjjS",
        "outputId": "36d0b6e2-2e20-4f5a-c8f4-6fad130b49c0"
      },
      "source": [
        "today[5:8]"
      ],
      "execution_count": 108,
      "outputs": [
        {
          "output_type": "execute_result",
          "data": {
            "application/vnd.google.colaboratory.intrinsic+json": {
              "type": "string"
            },
            "text/plain": [
              "'day'"
            ]
          },
          "metadata": {},
          "execution_count": 108
        }
      ]
    },
    {
      "cell_type": "markdown",
      "metadata": {
        "id": "1T5NAVnGAjjT"
      },
      "source": [
        "You can also check whether a string contains a some text using the `in` operator. "
      ]
    },
    {
      "cell_type": "code",
      "metadata": {
        "colab": {
          "base_uri": "https://localhost:8080/"
        },
        "id": "pcrC-EGuAjjU",
        "outputId": "b3bdea41-f9cb-4994-802d-e19d819dc1d7"
      },
      "source": [
        "'day' in today"
      ],
      "execution_count": 109,
      "outputs": [
        {
          "output_type": "execute_result",
          "data": {
            "text/plain": [
              "True"
            ]
          },
          "metadata": {},
          "execution_count": 109
        }
      ]
    },
    {
      "cell_type": "code",
      "metadata": {
        "colab": {
          "base_uri": "https://localhost:8080/"
        },
        "id": "FwCslo2eAjjU",
        "outputId": "e965c9e6-a39f-408d-a2f2-040fb458f2dc"
      },
      "source": [
        "'Sun' in today"
      ],
      "execution_count": 110,
      "outputs": [
        {
          "output_type": "execute_result",
          "data": {
            "text/plain": [
              "False"
            ]
          },
          "metadata": {},
          "execution_count": 110
        }
      ]
    },
    {
      "cell_type": "markdown",
      "metadata": {
        "id": "GobFzCF6AjjV"
      },
      "source": [
        "Two or more strings can be joined or *concatenated* using the `+` operator. Be careful while concatenating strings, sometimes you may need to add a space character `\" \"` between words."
      ]
    },
    {
      "cell_type": "code",
      "metadata": {
        "id": "Itw56FGcAjjV"
      },
      "source": [
        "full_name = \"Derek O'Brien\""
      ],
      "execution_count": 111,
      "outputs": []
    },
    {
      "cell_type": "code",
      "metadata": {
        "id": "pGkI8g23AjjW"
      },
      "source": [
        "greeting = \"Hello\""
      ],
      "execution_count": 112,
      "outputs": []
    },
    {
      "cell_type": "code",
      "metadata": {
        "colab": {
          "base_uri": "https://localhost:8080/",
          "height": 35
        },
        "id": "RsYFbJRIAjjW",
        "outputId": "bfd06bad-f480-4778-b3b4-2f1659c1f44e"
      },
      "source": [
        "greeting + full_name"
      ],
      "execution_count": 113,
      "outputs": [
        {
          "output_type": "execute_result",
          "data": {
            "application/vnd.google.colaboratory.intrinsic+json": {
              "type": "string"
            },
            "text/plain": [
              "\"HelloDerek O'Brien\""
            ]
          },
          "metadata": {},
          "execution_count": 113
        }
      ]
    },
    {
      "cell_type": "code",
      "metadata": {
        "colab": {
          "base_uri": "https://localhost:8080/",
          "height": 35
        },
        "id": "A3bOI1ThAjjX",
        "outputId": "2d488a85-4fcf-4d3b-c422-6ec645aa8f18"
      },
      "source": [
        "greeting + \" \" + full_name + \"!\" # additional space"
      ],
      "execution_count": 114,
      "outputs": [
        {
          "output_type": "execute_result",
          "data": {
            "application/vnd.google.colaboratory.intrinsic+json": {
              "type": "string"
            },
            "text/plain": [
              "\"Hello Derek O'Brien!\""
            ]
          },
          "metadata": {},
          "execution_count": 114
        }
      ]
    },
    {
      "cell_type": "markdown",
      "metadata": {
        "id": "ecsaci2pAjjX"
      },
      "source": [
        "Strings in Python have many built-in *methods* that are used to manipulate them. Let's try out some common string methods.\n",
        "\n",
        "> **Methods**: Methods are functions associated with data types and are accessed using the `.` notation e.g. `variable_name.method()` or `\"a string\".method()`. Methods are a powerful technique for associating common operations with values of specific data types.\n",
        "\n",
        "The `.lower()`, `.upper()` and `.capitalize()` methods are used to change the case of the characters."
      ]
    },
    {
      "cell_type": "code",
      "metadata": {
        "colab": {
          "base_uri": "https://localhost:8080/",
          "height": 35
        },
        "id": "Ya4gubfxAjjY",
        "outputId": "acfe1e51-64a0-4d04-dc67-d7063270c772"
      },
      "source": [
        "today.lower()"
      ],
      "execution_count": 115,
      "outputs": [
        {
          "output_type": "execute_result",
          "data": {
            "application/vnd.google.colaboratory.intrinsic+json": {
              "type": "string"
            },
            "text/plain": [
              "'saturday'"
            ]
          },
          "metadata": {},
          "execution_count": 115
        }
      ]
    },
    {
      "cell_type": "code",
      "metadata": {
        "colab": {
          "base_uri": "https://localhost:8080/",
          "height": 35
        },
        "id": "bb3cyyLHAjjY",
        "outputId": "cd48f369-0bf1-4582-9d63-6c271b4a8ad6"
      },
      "source": [
        "\"saturday\".upper()"
      ],
      "execution_count": 116,
      "outputs": [
        {
          "output_type": "execute_result",
          "data": {
            "application/vnd.google.colaboratory.intrinsic+json": {
              "type": "string"
            },
            "text/plain": [
              "'SATURDAY'"
            ]
          },
          "metadata": {},
          "execution_count": 116
        }
      ]
    },
    {
      "cell_type": "code",
      "metadata": {
        "colab": {
          "base_uri": "https://localhost:8080/",
          "height": 35
        },
        "id": "TBK2UYBlAjjZ",
        "outputId": "09d5e366-cc51-448d-9091-add0fd23744b"
      },
      "source": [
        "\"monday\".capitalize() # changes first character to uppercase"
      ],
      "execution_count": 117,
      "outputs": [
        {
          "output_type": "execute_result",
          "data": {
            "application/vnd.google.colaboratory.intrinsic+json": {
              "type": "string"
            },
            "text/plain": [
              "'Monday'"
            ]
          },
          "metadata": {},
          "execution_count": 117
        }
      ]
    },
    {
      "cell_type": "markdown",
      "metadata": {
        "id": "cm3QFgYyAjjZ"
      },
      "source": [
        "The `.replace` method replaces a part of the string with another string. It takes the portion to be replaced and the replacement text as *inputs* or *arguments*."
      ]
    },
    {
      "cell_type": "code",
      "metadata": {
        "id": "qFm9RjgYAjjZ"
      },
      "source": [
        "another_day = today.replace(\"Satur\", \"Wednes\")"
      ],
      "execution_count": 118,
      "outputs": []
    },
    {
      "cell_type": "code",
      "metadata": {
        "colab": {
          "base_uri": "https://localhost:8080/",
          "height": 35
        },
        "id": "8ldsXp_BAjja",
        "outputId": "19c24e6d-874d-43a8-a61c-13214fc2a5bf"
      },
      "source": [
        "another_day"
      ],
      "execution_count": 119,
      "outputs": [
        {
          "output_type": "execute_result",
          "data": {
            "application/vnd.google.colaboratory.intrinsic+json": {
              "type": "string"
            },
            "text/plain": [
              "'Wednesday'"
            ]
          },
          "metadata": {},
          "execution_count": 119
        }
      ]
    },
    {
      "cell_type": "markdown",
      "metadata": {
        "id": "Pz7i2Z38Ajja"
      },
      "source": [
        "Note that `replace` returns a new string, and the original string is not modified."
      ]
    },
    {
      "cell_type": "code",
      "metadata": {
        "colab": {
          "base_uri": "https://localhost:8080/",
          "height": 35
        },
        "id": "FBQ7bpDzAjja",
        "outputId": "c867a3ec-b756-465b-acf6-86f1434fd53e"
      },
      "source": [
        "today"
      ],
      "execution_count": 120,
      "outputs": [
        {
          "output_type": "execute_result",
          "data": {
            "application/vnd.google.colaboratory.intrinsic+json": {
              "type": "string"
            },
            "text/plain": [
              "'Saturday'"
            ]
          },
          "metadata": {},
          "execution_count": 120
        }
      ]
    },
    {
      "cell_type": "markdown",
      "metadata": {
        "id": "I8TyGC0iAjjb"
      },
      "source": [
        "The `.split` method splits a string into a list of strings at every occurrence of provided character(s)."
      ]
    },
    {
      "cell_type": "code",
      "metadata": {
        "colab": {
          "base_uri": "https://localhost:8080/"
        },
        "id": "USYO9iHOAjjc",
        "outputId": "0f866291-bb10-47ce-9c04-b605d3b54263"
      },
      "source": [
        "\"Sun,Mon,Tue,Wed,Thu,Fri,Sat\".split(\",\")"
      ],
      "execution_count": 121,
      "outputs": [
        {
          "output_type": "execute_result",
          "data": {
            "text/plain": [
              "['Sun', 'Mon', 'Tue', 'Wed', 'Thu', 'Fri', 'Sat']"
            ]
          },
          "metadata": {},
          "execution_count": 121
        }
      ]
    },
    {
      "cell_type": "markdown",
      "metadata": {
        "id": "W6gsPXTtAjjd"
      },
      "source": [
        "The `.strip` method removes whitespace characters from the beginning and end of a string."
      ]
    },
    {
      "cell_type": "code",
      "metadata": {
        "id": "fVYhnC8nAjjd"
      },
      "source": [
        "a_long_line = \"       This is a long line with some space before, after,     and some space in the middle..    \""
      ],
      "execution_count": 122,
      "outputs": []
    },
    {
      "cell_type": "code",
      "metadata": {
        "id": "tl7zDakqAjje"
      },
      "source": [
        "a_long_line_stripped = a_long_line.strip()"
      ],
      "execution_count": 123,
      "outputs": []
    },
    {
      "cell_type": "code",
      "metadata": {
        "colab": {
          "base_uri": "https://localhost:8080/",
          "height": 53
        },
        "id": "H6jMiEvXAjje",
        "outputId": "e24094cf-cb8e-4ac2-f119-4584365dcf5f"
      },
      "source": [
        "a_long_line_stripped"
      ],
      "execution_count": 124,
      "outputs": [
        {
          "output_type": "execute_result",
          "data": {
            "application/vnd.google.colaboratory.intrinsic+json": {
              "type": "string"
            },
            "text/plain": [
              "'This is a long line with some space before, after,     and some space in the middle..'"
            ]
          },
          "metadata": {},
          "execution_count": 124
        }
      ]
    },
    {
      "cell_type": "markdown",
      "metadata": {
        "id": "czY2yAqUAjjf"
      },
      "source": [
        "The `.format` method combines values of other data types, e.g., integers, floats, booleans, lists, etc. with strings. You can use `format` to construct output messages for display."
      ]
    },
    {
      "cell_type": "code",
      "metadata": {
        "colab": {
          "base_uri": "https://localhost:8080/"
        },
        "id": "27HAFblxAjjf",
        "outputId": "4d193a58-8f20-4c57-80bf-5b9d8db22416"
      },
      "source": [
        "# Input variables\n",
        "cost_of_ice_bag = 1.25\n",
        "profit_margin = .2\n",
        "number_of_bags = 500\n",
        "\n",
        "# Template for output message\n",
        "output_template = \"\"\"If a grocery store sells ice bags at $ {} per bag, with a profit margin of {} %, \n",
        "then the total profit it makes by selling {} ice bags is $ {}.\"\"\"\n",
        "\n",
        "print(output_template)"
      ],
      "execution_count": 125,
      "outputs": [
        {
          "output_type": "stream",
          "name": "stdout",
          "text": [
            "If a grocery store sells ice bags at $ {} per bag, with a profit margin of {} %, \n",
            "then the total profit it makes by selling {} ice bags is $ {}.\n"
          ]
        }
      ]
    },
    {
      "cell_type": "code",
      "metadata": {
        "colab": {
          "base_uri": "https://localhost:8080/"
        },
        "id": "meUxxkvLAjjf",
        "outputId": "591c866c-75ec-4a43-ec0f-0342913cba55"
      },
      "source": [
        "# Inserting values into the string\n",
        "total_profit = cost_of_ice_bag * profit_margin * number_of_bags\n",
        "output_message = output_template.format(cost_of_ice_bag, profit_margin*100, number_of_bags, total_profit)\n",
        "\n",
        "print(output_message)"
      ],
      "execution_count": 126,
      "outputs": [
        {
          "output_type": "stream",
          "name": "stdout",
          "text": [
            "If a grocery store sells ice bags at $ 1.25 per bag, with a profit margin of 20.0 %, \n",
            "then the total profit it makes by selling 500 ice bags is $ 125.0.\n"
          ]
        }
      ]
    },
    {
      "cell_type": "markdown",
      "metadata": {
        "id": "qExr2UsbAjjg"
      },
      "source": [
        "Notice how the placeholders `{}` in the `output_template` string are replaced with the arguments provided to the `.format` method.\n",
        "\n",
        "It is also possible to use the string concatenation operator `+` to combine strings with other values. However, those values must first be converted to strings using the `str` function."
      ]
    },
    {
      "cell_type": "code",
      "metadata": {
        "colab": {
          "base_uri": "https://localhost:8080/",
          "height": 185
        },
        "id": "oWmCf8l-Ajjh",
        "outputId": "7962215b-daf2-4beb-b83e-b64e2de4a050"
      },
      "source": [
        "\"If a grocery store sells ice bags at $ \" + cost_of_ice_bag + \", with a profit margin of \" + profit_margin"
      ],
      "execution_count": 127,
      "outputs": [
        {
          "output_type": "error",
          "ename": "TypeError",
          "evalue": "ignored",
          "traceback": [
            "\u001b[0;31m---------------------------------------------------------------------------\u001b[0m",
            "\u001b[0;31mTypeError\u001b[0m                                 Traceback (most recent call last)",
            "\u001b[0;32m<ipython-input-127-78b7958ec7cc>\u001b[0m in \u001b[0;36m<module>\u001b[0;34m()\u001b[0m\n\u001b[0;32m----> 1\u001b[0;31m \u001b[0;34m\"If a grocery store sells ice bags at $ \"\u001b[0m \u001b[0;34m+\u001b[0m \u001b[0mcost_of_ice_bag\u001b[0m \u001b[0;34m+\u001b[0m \u001b[0;34m\", with a profit margin of \"\u001b[0m \u001b[0;34m+\u001b[0m \u001b[0mprofit_margin\u001b[0m\u001b[0;34m\u001b[0m\u001b[0;34m\u001b[0m\u001b[0m\n\u001b[0m",
            "\u001b[0;31mTypeError\u001b[0m: can only concatenate str (not \"float\") to str"
          ]
        }
      ]
    },
    {
      "cell_type": "code",
      "metadata": {
        "colab": {
          "base_uri": "https://localhost:8080/",
          "height": 35
        },
        "id": "KiGFYIgcAjjh",
        "outputId": "4af1041c-c860-4c19-d549-cbae436215b9"
      },
      "source": [
        "\"If a grocery store sells ice bags at $ \" + str(cost_of_ice_bag) + \"with a profit margin of \" + str(profit_margin)"
      ],
      "execution_count": 128,
      "outputs": [
        {
          "output_type": "execute_result",
          "data": {
            "application/vnd.google.colaboratory.intrinsic+json": {
              "type": "string"
            },
            "text/plain": [
              "'If a grocery store sells ice bags at $ 1.25, with a profit margin of 0.2'"
            ]
          },
          "metadata": {},
          "execution_count": 128
        }
      ]
    },
    {
      "cell_type": "code",
      "metadata": {
        "colab": {
          "base_uri": "https://localhost:8080/"
        },
        "id": "a1BfaPnJspQP",
        "outputId": "307df371-8ef6-4b1a-b3c6-3c3210129640"
      },
      "source": [
        "print(\"A grocery store sells ice bags at $\" , cost_of_ice_bag)"
      ],
      "execution_count": 131,
      "outputs": [
        {
          "output_type": "stream",
          "name": "stdout",
          "text": [
            "A grocery store sells ice bags at $ 1.25\n"
          ]
        }
      ]
    },
    {
      "cell_type": "markdown",
      "metadata": {
        "id": "MP8DvfvdAjji"
      },
      "source": [
        "You can `str` to convert a value of any data type into a string."
      ]
    },
    {
      "cell_type": "code",
      "metadata": {
        "colab": {
          "base_uri": "https://localhost:8080/",
          "height": 35
        },
        "id": "jWalisexAjji",
        "outputId": "826e543d-fe6d-4228-b05d-9c2eb4323da0"
      },
      "source": [
        "str(23)"
      ],
      "execution_count": 132,
      "outputs": [
        {
          "output_type": "execute_result",
          "data": {
            "application/vnd.google.colaboratory.intrinsic+json": {
              "type": "string"
            },
            "text/plain": [
              "'23'"
            ]
          },
          "metadata": {},
          "execution_count": 132
        }
      ]
    },
    {
      "cell_type": "code",
      "metadata": {
        "colab": {
          "base_uri": "https://localhost:8080/",
          "height": 35
        },
        "id": "wWOv3CU5Ajji",
        "outputId": "74a0ec14-2ed9-4be1-f376-c61472533047"
      },
      "source": [
        "str(23.432)"
      ],
      "execution_count": 133,
      "outputs": [
        {
          "output_type": "execute_result",
          "data": {
            "application/vnd.google.colaboratory.intrinsic+json": {
              "type": "string"
            },
            "text/plain": [
              "'23.432'"
            ]
          },
          "metadata": {},
          "execution_count": 133
        }
      ]
    },
    {
      "cell_type": "code",
      "metadata": {
        "colab": {
          "base_uri": "https://localhost:8080/",
          "height": 35
        },
        "id": "eOyXD9WqAjjj",
        "outputId": "791ecf3d-c76b-4fdc-cba9-619de80d38c8"
      },
      "source": [
        "str(True)"
      ],
      "execution_count": 134,
      "outputs": [
        {
          "output_type": "execute_result",
          "data": {
            "application/vnd.google.colaboratory.intrinsic+json": {
              "type": "string"
            },
            "text/plain": [
              "'True'"
            ]
          },
          "metadata": {},
          "execution_count": 134
        }
      ]
    },
    {
      "cell_type": "code",
      "metadata": {
        "colab": {
          "base_uri": "https://localhost:8080/",
          "height": 35
        },
        "id": "7gQNE70vAjjk",
        "outputId": "6fee0fd2-0d14-43e3-b454-2b0e3ab00091"
      },
      "source": [
        "the_3_musketeers = [\"Athos\", \"Porthos\", \"Aramis\"]\n",
        "str(the_3_musketeers)"
      ],
      "execution_count": 135,
      "outputs": [
        {
          "output_type": "execute_result",
          "data": {
            "application/vnd.google.colaboratory.intrinsic+json": {
              "type": "string"
            },
            "text/plain": [
              "\"['Athos', 'Porthos', 'Aramis']\""
            ]
          },
          "metadata": {},
          "execution_count": 135
        }
      ]
    },
    {
      "cell_type": "markdown",
      "metadata": {
        "id": "W71PImqlAjjn"
      },
      "source": [
        "Note that all string methods return new values and DO NOT change the existing string. You can find a full list of string methods here: https://www.w3schools.com/python/python_ref_string.asp. "
      ]
    },
    {
      "cell_type": "markdown",
      "metadata": {
        "id": "hNFMLW4dAjjn"
      },
      "source": [
        "Strings also support the comparison operators `==` and `!=` for checking whether two strings are equal."
      ]
    },
    {
      "cell_type": "code",
      "metadata": {
        "id": "NyVGqRgAAjjn"
      },
      "source": [
        "first_name = \"John\""
      ],
      "execution_count": 136,
      "outputs": []
    },
    {
      "cell_type": "code",
      "metadata": {
        "colab": {
          "base_uri": "https://localhost:8080/"
        },
        "id": "kaiebvGvAjjo",
        "outputId": "c4abab9f-a839-4b5b-eabc-2122de64023a"
      },
      "source": [
        "first_name == \"Doe\""
      ],
      "execution_count": 137,
      "outputs": [
        {
          "output_type": "execute_result",
          "data": {
            "text/plain": [
              "False"
            ]
          },
          "metadata": {},
          "execution_count": 137
        }
      ]
    },
    {
      "cell_type": "code",
      "metadata": {
        "colab": {
          "base_uri": "https://localhost:8080/"
        },
        "id": "l8k-1Z2HAjjo",
        "outputId": "33d51708-d9f9-4726-da78-dfc69b03f61c"
      },
      "source": [
        "first_name == \"John\""
      ],
      "execution_count": 138,
      "outputs": [
        {
          "output_type": "execute_result",
          "data": {
            "text/plain": [
              "True"
            ]
          },
          "metadata": {},
          "execution_count": 138
        }
      ]
    },
    {
      "cell_type": "code",
      "metadata": {
        "colab": {
          "base_uri": "https://localhost:8080/"
        },
        "id": "HjuqjMQPAjjo",
        "outputId": "59459783-2f11-4bae-dcd6-06f108ce99c7"
      },
      "source": [
        "first_name != \"Jane\""
      ],
      "execution_count": 139,
      "outputs": [
        {
          "output_type": "execute_result",
          "data": {
            "text/plain": [
              "True"
            ]
          },
          "metadata": {},
          "execution_count": 139
        }
      ]
    },
    {
      "cell_type": "markdown",
      "metadata": {
        "id": "Y5MnQSyLAjjp"
      },
      "source": [
        "We've looked at the primitive data types in Python. We're now ready to explore non-primitive data structures, also known as containers.\n",
        "\n",
        "Before continuing, let us run `jovian.commit` once again to record another snapshot of our notebook."
      ]
    },
    {
      "cell_type": "code",
      "metadata": {
        "colab": {
          "base_uri": "https://localhost:8080/",
          "height": 108
        },
        "id": "GEIB1qtnAjjp",
        "outputId": "d2d7c451-d86a-45e4-b447-a38b00d25732"
      },
      "source": [
        "jovian.commit()"
      ],
      "execution_count": 140,
      "outputs": [
        {
          "output_type": "stream",
          "name": "stdout",
          "text": [
            "[jovian] Detected Colab notebook...\u001b[0m\n",
            "[jovian] Uploading colab notebook to Jovian...\u001b[0m\n",
            "Committed successfully! https://jovian.ai/bakarihamisi027/python-variables-and-data-types\n"
          ]
        },
        {
          "output_type": "execute_result",
          "data": {
            "application/vnd.google.colaboratory.intrinsic+json": {
              "type": "string"
            },
            "text/plain": [
              "'https://jovian.ai/bakarihamisi027/python-variables-and-data-types'"
            ]
          },
          "metadata": {},
          "execution_count": 140
        }
      ]
    },
    {
      "cell_type": "markdown",
      "metadata": {
        "id": "MznRZxbPAjjp"
      },
      "source": [
        "Running `jovian.commit` multiple times within a notebook records new versions automatically. You will continue to have access to all the previous versions of your notebook, using the versions dropdown on the notebook's Jovian."
      ]
    },
    {
      "cell_type": "markdown",
      "metadata": {
        "id": "hhfRtr50Ajjq"
      },
      "source": [
        "### List\n",
        "\n",
        "A list in Python is an ordered collection of values. Lists can hold values of different data types and support operations to add, remove, and change values. Lists have the type `list`.\n",
        "\n",
        "To create a list, enclose a sequence of values within square brackets `[` and `]`, separated by commas."
      ]
    },
    {
      "cell_type": "code",
      "metadata": {
        "id": "QWvyp2YKAjjq"
      },
      "source": [
        "fruits = ['apple', 'banana', 'cherry']"
      ],
      "execution_count": 141,
      "outputs": []
    },
    {
      "cell_type": "code",
      "metadata": {
        "colab": {
          "base_uri": "https://localhost:8080/"
        },
        "id": "WDi-v37RAjjq",
        "outputId": "3bdd6fc5-ad93-4952-e379-9c2835e46eb2"
      },
      "source": [
        "fruits"
      ],
      "execution_count": 142,
      "outputs": [
        {
          "output_type": "execute_result",
          "data": {
            "text/plain": [
              "['apple', 'banana', 'cherry']"
            ]
          },
          "metadata": {},
          "execution_count": 142
        }
      ]
    },
    {
      "cell_type": "code",
      "metadata": {
        "colab": {
          "base_uri": "https://localhost:8080/"
        },
        "id": "SeTGR8K2Ajjr",
        "outputId": "eed72c72-06d1-4524-ec07-a4967e89ac14"
      },
      "source": [
        "type(fruits)"
      ],
      "execution_count": 143,
      "outputs": [
        {
          "output_type": "execute_result",
          "data": {
            "text/plain": [
              "list"
            ]
          },
          "metadata": {},
          "execution_count": 143
        }
      ]
    },
    {
      "cell_type": "markdown",
      "metadata": {
        "id": "gRTVsdb0Ajjr"
      },
      "source": [
        "Let's try creating a list containing values of different data types, including another list."
      ]
    },
    {
      "cell_type": "code",
      "metadata": {
        "id": "DS5O6qt9Ajjr"
      },
      "source": [
        "a_list = [23, 'hello', None, 3.14, fruits, 3 <= 5]"
      ],
      "execution_count": 144,
      "outputs": []
    },
    {
      "cell_type": "code",
      "metadata": {
        "colab": {
          "base_uri": "https://localhost:8080/"
        },
        "id": "6MKRwS0iAjjs",
        "outputId": "0e95d19a-6a48-4283-ccff-7796f078bfd8"
      },
      "source": [
        "a_list"
      ],
      "execution_count": 145,
      "outputs": [
        {
          "output_type": "execute_result",
          "data": {
            "text/plain": [
              "[23, 'hello', None, 3.14, ['apple', 'banana', 'cherry'], True]"
            ]
          },
          "metadata": {},
          "execution_count": 145
        }
      ]
    },
    {
      "cell_type": "code",
      "metadata": {
        "id": "yp5-h8xhAjjs"
      },
      "source": [
        "empty_list = []"
      ],
      "execution_count": 146,
      "outputs": []
    },
    {
      "cell_type": "code",
      "metadata": {
        "colab": {
          "base_uri": "https://localhost:8080/"
        },
        "id": "kE68aYMMAjjt",
        "outputId": "d0b9c127-1dd3-4ff6-872f-9cb64520be06"
      },
      "source": [
        "empty_list"
      ],
      "execution_count": 147,
      "outputs": [
        {
          "output_type": "execute_result",
          "data": {
            "text/plain": [
              "[]"
            ]
          },
          "metadata": {},
          "execution_count": 147
        }
      ]
    },
    {
      "cell_type": "markdown",
      "metadata": {
        "id": "818BmYjfAjjt"
      },
      "source": [
        "To determine the number of values in a list, use the `len` function. You can use `len`  to determine the number of values in several other data types."
      ]
    },
    {
      "cell_type": "code",
      "metadata": {
        "colab": {
          "base_uri": "https://localhost:8080/"
        },
        "id": "9GbqWNK-Ajju",
        "outputId": "c71f59a5-62b0-4866-be04-88f1c83076ed"
      },
      "source": [
        "len(fruits)"
      ],
      "execution_count": 148,
      "outputs": [
        {
          "output_type": "execute_result",
          "data": {
            "text/plain": [
              "3"
            ]
          },
          "metadata": {},
          "execution_count": 148
        }
      ]
    },
    {
      "cell_type": "code",
      "metadata": {
        "colab": {
          "base_uri": "https://localhost:8080/"
        },
        "id": "5ZXzj-0OAjju",
        "outputId": "093aae4a-2706-48e8-d257-44ffb9017ab2"
      },
      "source": [
        "print(\"Number of fruits:\", len(fruits))"
      ],
      "execution_count": 149,
      "outputs": [
        {
          "output_type": "stream",
          "name": "stdout",
          "text": [
            "Number of fruits: 3\n"
          ]
        }
      ]
    },
    {
      "cell_type": "code",
      "metadata": {
        "colab": {
          "base_uri": "https://localhost:8080/"
        },
        "id": "uWKjBompAjjv",
        "outputId": "2555bab8-fffc-4d0d-9ee2-c5e891ed4899"
      },
      "source": [
        "len(a_list)"
      ],
      "execution_count": 150,
      "outputs": [
        {
          "output_type": "execute_result",
          "data": {
            "text/plain": [
              "6"
            ]
          },
          "metadata": {},
          "execution_count": 150
        }
      ]
    },
    {
      "cell_type": "code",
      "metadata": {
        "colab": {
          "base_uri": "https://localhost:8080/"
        },
        "id": "plhFhEQZAjjv",
        "outputId": "2da2ff2b-657a-4d18-e391-004120cb6f9b"
      },
      "source": [
        "len(empty_list)"
      ],
      "execution_count": 151,
      "outputs": [
        {
          "output_type": "execute_result",
          "data": {
            "text/plain": [
              "0"
            ]
          },
          "metadata": {},
          "execution_count": 151
        }
      ]
    },
    {
      "cell_type": "markdown",
      "metadata": {
        "id": "pJovDJ3wAjjw"
      },
      "source": [
        "You can access an element from the list using its *index*, e.g., `fruits[2]` returns the element at index 2 within the list `fruits`. The starting index of a list is 0."
      ]
    },
    {
      "cell_type": "code",
      "metadata": {
        "colab": {
          "base_uri": "https://localhost:8080/",
          "height": 35
        },
        "id": "GdWMNxJIAjjw",
        "outputId": "965529a3-fb60-499e-b3fa-24722baeada8"
      },
      "source": [
        "fruits[0]"
      ],
      "execution_count": 152,
      "outputs": [
        {
          "output_type": "execute_result",
          "data": {
            "application/vnd.google.colaboratory.intrinsic+json": {
              "type": "string"
            },
            "text/plain": [
              "'apple'"
            ]
          },
          "metadata": {},
          "execution_count": 152
        }
      ]
    },
    {
      "cell_type": "code",
      "metadata": {
        "colab": {
          "base_uri": "https://localhost:8080/",
          "height": 35
        },
        "id": "dMP1oIRxAjjx",
        "outputId": "b37774fd-d4e5-443b-b41e-3ebe5b8f5311"
      },
      "source": [
        "fruits[1]"
      ],
      "execution_count": 153,
      "outputs": [
        {
          "output_type": "execute_result",
          "data": {
            "application/vnd.google.colaboratory.intrinsic+json": {
              "type": "string"
            },
            "text/plain": [
              "'banana'"
            ]
          },
          "metadata": {},
          "execution_count": 153
        }
      ]
    },
    {
      "cell_type": "code",
      "metadata": {
        "colab": {
          "base_uri": "https://localhost:8080/",
          "height": 35
        },
        "id": "XNPfZlJeAjjx",
        "outputId": "5c5a3fbe-2ea9-4bcd-e82b-f605fc5e6788"
      },
      "source": [
        "fruits[2]"
      ],
      "execution_count": 154,
      "outputs": [
        {
          "output_type": "execute_result",
          "data": {
            "application/vnd.google.colaboratory.intrinsic+json": {
              "type": "string"
            },
            "text/plain": [
              "'cherry'"
            ]
          },
          "metadata": {},
          "execution_count": 154
        }
      ]
    },
    {
      "cell_type": "markdown",
      "metadata": {
        "id": "8dX_afafAjjx"
      },
      "source": [
        "If you try to access an index equal to or higher than the length of the list, Python returns an `IndexError`."
      ]
    },
    {
      "cell_type": "code",
      "metadata": {
        "colab": {
          "base_uri": "https://localhost:8080/",
          "height": 167
        },
        "id": "ymjrkvlwAjjy",
        "outputId": "a93f8728-d0fc-4629-8af2-a74e4cdd1598"
      },
      "source": [
        "fruits[3]"
      ],
      "execution_count": 155,
      "outputs": [
        {
          "output_type": "error",
          "ename": "IndexError",
          "evalue": "ignored",
          "traceback": [
            "\u001b[0;31m---------------------------------------------------------------------------\u001b[0m",
            "\u001b[0;31mIndexError\u001b[0m                                Traceback (most recent call last)",
            "\u001b[0;32m<ipython-input-155-7ceeafd384d7>\u001b[0m in \u001b[0;36m<module>\u001b[0;34m()\u001b[0m\n\u001b[0;32m----> 1\u001b[0;31m \u001b[0mfruits\u001b[0m\u001b[0;34m[\u001b[0m\u001b[0;36m3\u001b[0m\u001b[0;34m]\u001b[0m\u001b[0;34m\u001b[0m\u001b[0;34m\u001b[0m\u001b[0m\n\u001b[0m",
            "\u001b[0;31mIndexError\u001b[0m: list index out of range"
          ]
        }
      ]
    },
    {
      "cell_type": "code",
      "metadata": {
        "colab": {
          "base_uri": "https://localhost:8080/",
          "height": 167
        },
        "id": "UpQHOhJzAjjy",
        "outputId": "906d6bfb-e7fa-4bfa-f2ca-748c8c408350"
      },
      "source": [
        "fruits[4]"
      ],
      "execution_count": 156,
      "outputs": [
        {
          "output_type": "error",
          "ename": "IndexError",
          "evalue": "ignored",
          "traceback": [
            "\u001b[0;31m---------------------------------------------------------------------------\u001b[0m",
            "\u001b[0;31mIndexError\u001b[0m                                Traceback (most recent call last)",
            "\u001b[0;32m<ipython-input-156-b8c91da6ba3a>\u001b[0m in \u001b[0;36m<module>\u001b[0;34m()\u001b[0m\n\u001b[0;32m----> 1\u001b[0;31m \u001b[0mfruits\u001b[0m\u001b[0;34m[\u001b[0m\u001b[0;36m4\u001b[0m\u001b[0;34m]\u001b[0m\u001b[0;34m\u001b[0m\u001b[0;34m\u001b[0m\u001b[0m\n\u001b[0m",
            "\u001b[0;31mIndexError\u001b[0m: list index out of range"
          ]
        }
      ]
    },
    {
      "cell_type": "markdown",
      "metadata": {
        "id": "aqqFM9WNAjjy"
      },
      "source": [
        "You can use negative indices to access elements from the end of a list, e.g., `fruits[-1]` returns the last element, `fruits[-2]` returns the second last element, and so on."
      ]
    },
    {
      "cell_type": "code",
      "metadata": {
        "colab": {
          "base_uri": "https://localhost:8080/",
          "height": 35
        },
        "id": "JAbqy-lzAjjz",
        "outputId": "8a795bb1-5707-4a51-9bf8-3ac1d63dfda3"
      },
      "source": [
        "fruits[-1]"
      ],
      "execution_count": 157,
      "outputs": [
        {
          "output_type": "execute_result",
          "data": {
            "application/vnd.google.colaboratory.intrinsic+json": {
              "type": "string"
            },
            "text/plain": [
              "'cherry'"
            ]
          },
          "metadata": {},
          "execution_count": 157
        }
      ]
    },
    {
      "cell_type": "code",
      "metadata": {
        "colab": {
          "base_uri": "https://localhost:8080/",
          "height": 35
        },
        "id": "d61sMXnPAjjz",
        "outputId": "ebc0cd2a-b644-4922-c893-a286d7f5874f"
      },
      "source": [
        "fruits[-2]"
      ],
      "execution_count": 158,
      "outputs": [
        {
          "output_type": "execute_result",
          "data": {
            "application/vnd.google.colaboratory.intrinsic+json": {
              "type": "string"
            },
            "text/plain": [
              "'banana'"
            ]
          },
          "metadata": {},
          "execution_count": 158
        }
      ]
    },
    {
      "cell_type": "code",
      "metadata": {
        "colab": {
          "base_uri": "https://localhost:8080/",
          "height": 35
        },
        "id": "iKRTycyaAjjz",
        "outputId": "8ae105af-d1d6-44b5-8d36-971e2cecfbba"
      },
      "source": [
        "fruits[-3]"
      ],
      "execution_count": 159,
      "outputs": [
        {
          "output_type": "execute_result",
          "data": {
            "application/vnd.google.colaboratory.intrinsic+json": {
              "type": "string"
            },
            "text/plain": [
              "'apple'"
            ]
          },
          "metadata": {},
          "execution_count": 159
        }
      ]
    },
    {
      "cell_type": "code",
      "metadata": {
        "colab": {
          "base_uri": "https://localhost:8080/",
          "height": 167
        },
        "id": "WHWt2erzAjj0",
        "outputId": "23157c29-ff10-41ad-9223-fadefdbc4505"
      },
      "source": [
        "fruits[-4]"
      ],
      "execution_count": 160,
      "outputs": [
        {
          "output_type": "error",
          "ename": "IndexError",
          "evalue": "ignored",
          "traceback": [
            "\u001b[0;31m---------------------------------------------------------------------------\u001b[0m",
            "\u001b[0;31mIndexError\u001b[0m                                Traceback (most recent call last)",
            "\u001b[0;32m<ipython-input-160-1cb2d66442ee>\u001b[0m in \u001b[0;36m<module>\u001b[0;34m()\u001b[0m\n\u001b[0;32m----> 1\u001b[0;31m \u001b[0mfruits\u001b[0m\u001b[0;34m[\u001b[0m\u001b[0;34m-\u001b[0m\u001b[0;36m4\u001b[0m\u001b[0;34m]\u001b[0m\u001b[0;34m\u001b[0m\u001b[0;34m\u001b[0m\u001b[0m\n\u001b[0m",
            "\u001b[0;31mIndexError\u001b[0m: list index out of range"
          ]
        }
      ]
    },
    {
      "cell_type": "markdown",
      "metadata": {
        "id": "o0HZBSbIAjj0"
      },
      "source": [
        "You can also access a range of values from the list. The result is itself a list. Let us look at some examples."
      ]
    },
    {
      "cell_type": "code",
      "metadata": {
        "id": "zpUraYTkAjj0"
      },
      "source": [
        "a_list = [23, 'hello', None, 3.14, fruits, 3 <= 5]"
      ],
      "execution_count": 161,
      "outputs": []
    },
    {
      "cell_type": "code",
      "metadata": {
        "colab": {
          "base_uri": "https://localhost:8080/"
        },
        "id": "Dv9QpUQLAjj1",
        "outputId": "33c10c3a-6597-4338-f0ea-90466bf1e60c"
      },
      "source": [
        "a_list"
      ],
      "execution_count": 162,
      "outputs": [
        {
          "output_type": "execute_result",
          "data": {
            "text/plain": [
              "[23, 'hello', None, 3.14, ['apple', 'banana', 'cherry'], True]"
            ]
          },
          "metadata": {},
          "execution_count": 162
        }
      ]
    },
    {
      "cell_type": "code",
      "metadata": {
        "colab": {
          "base_uri": "https://localhost:8080/"
        },
        "id": "ra-tPiUtAjj1",
        "outputId": "4bdb2660-2011-464d-8185-b360ef07c6de"
      },
      "source": [
        "len(a_list)"
      ],
      "execution_count": 163,
      "outputs": [
        {
          "output_type": "execute_result",
          "data": {
            "text/plain": [
              "6"
            ]
          },
          "metadata": {},
          "execution_count": 163
        }
      ]
    },
    {
      "cell_type": "code",
      "metadata": {
        "colab": {
          "base_uri": "https://localhost:8080/"
        },
        "id": "jNPFga3EAjj1",
        "outputId": "347928c1-5cd5-4a1d-a2ad-d4f8e8bf1858"
      },
      "source": [
        "a_list[2:5]"
      ],
      "execution_count": 164,
      "outputs": [
        {
          "output_type": "execute_result",
          "data": {
            "text/plain": [
              "[None, 3.14, ['apple', 'banana', 'cherry']]"
            ]
          },
          "metadata": {},
          "execution_count": 164
        }
      ]
    },
    {
      "cell_type": "markdown",
      "metadata": {
        "id": "IREUDl2aAjj2"
      },
      "source": [
        "Note that the range `2:5` includes the element at the start index `2` but does not include the element at the end index `5`. So, the result has 3 values (index `2`, `3`, and `4`).\n",
        "\n",
        "Here are some experiments you should try out (use the empty cells below):\n",
        "\n",
        "* Try setting one or both indices of the range are larger than the size of the list, e.g., `a_list[2:10]`\n",
        "* Try setting the start index of the range to be larger than the end index, e.g., `a_list[12:10]`\n",
        "* Try leaving out the start or end index of a range, e.g., `a_list[2:]` or `a_list[:5]`\n",
        "* Try using negative indices for the range, e.g., `a_list[-2:-5]` or `a_list[-5:-2]` (can you explain the results?)\n",
        "\n",
        "> The flexible and interactive nature of Jupyter notebooks makes them an excellent tool for learning and experimentation. If you are new to Python, you can resolve most questions as soon as they arise simply by typing the code into a cell and executing it. Let your curiosity run wild, discover what Python is capable of and what it isn't! "
      ]
    },
    {
      "cell_type": "code",
      "metadata": {
        "colab": {
          "base_uri": "https://localhost:8080/"
        },
        "id": "yTVLIh7MAjj2",
        "outputId": "0c6ddfb0-9d29-4ee4-8cb7-f95e89235030"
      },
      "source": [
        "a_list[2:10]"
      ],
      "execution_count": 165,
      "outputs": [
        {
          "output_type": "execute_result",
          "data": {
            "text/plain": [
              "[None, 3.14, ['apple', 'banana', 'cherry'], True]"
            ]
          },
          "metadata": {},
          "execution_count": 165
        }
      ]
    },
    {
      "cell_type": "code",
      "metadata": {
        "colab": {
          "base_uri": "https://localhost:8080/"
        },
        "id": "ZxUjYpkmAjj2",
        "outputId": "c6b5c384-9994-47e4-ce8f-2687fd7b524a"
      },
      "source": [
        "a_list[12:10]"
      ],
      "execution_count": 166,
      "outputs": [
        {
          "output_type": "execute_result",
          "data": {
            "text/plain": [
              "[]"
            ]
          },
          "metadata": {},
          "execution_count": 166
        }
      ]
    },
    {
      "cell_type": "code",
      "metadata": {
        "colab": {
          "base_uri": "https://localhost:8080/"
        },
        "id": "AC5YW-qeAjj2",
        "outputId": "6e981fbf-e72a-45c5-e91d-72b95bdca610"
      },
      "source": [
        "print(a_list[2:])\n",
        "print(a_list[:5])"
      ],
      "execution_count": 167,
      "outputs": [
        {
          "output_type": "stream",
          "name": "stdout",
          "text": [
            "[None, 3.14, ['apple', 'banana', 'cherry'], True]\n",
            "[23, 'hello', None, 3.14, ['apple', 'banana', 'cherry']]\n"
          ]
        }
      ]
    },
    {
      "cell_type": "code",
      "metadata": {
        "colab": {
          "base_uri": "https://localhost:8080/"
        },
        "id": "s7_ENycNAjj2",
        "outputId": "80e97ee1-c2ef-4407-9a1e-311ce053826e"
      },
      "source": [
        "print(a_list[-2:-5])\n",
        "print(a_list[-5:-2])"
      ],
      "execution_count": 168,
      "outputs": [
        {
          "output_type": "stream",
          "name": "stdout",
          "text": [
            "[]\n",
            "['hello', None, 3.14]\n"
          ]
        }
      ]
    },
    {
      "cell_type": "code",
      "metadata": {
        "colab": {
          "base_uri": "https://localhost:8080/"
        },
        "id": "8wF3U60fysga",
        "outputId": "62303ff1-0e4d-4748-eff5-355aceaf7988"
      },
      "source": [
        "print(a_list[-4:])"
      ],
      "execution_count": 169,
      "outputs": [
        {
          "output_type": "stream",
          "name": "stdout",
          "text": [
            "[None, 3.14, ['apple', 'banana', 'cherry'], True]\n"
          ]
        }
      ]
    },
    {
      "cell_type": "markdown",
      "metadata": {
        "id": "sEE-NOJTAjj3"
      },
      "source": [
        "You can also change the value at a specific index within a list using the assignment operation."
      ]
    },
    {
      "cell_type": "code",
      "metadata": {
        "colab": {
          "base_uri": "https://localhost:8080/"
        },
        "id": "n3-WnX50Ajj3",
        "outputId": "cd331e18-618f-42d4-e170-035e833d0222"
      },
      "source": [
        "fruits"
      ],
      "execution_count": 170,
      "outputs": [
        {
          "output_type": "execute_result",
          "data": {
            "text/plain": [
              "['apple', 'banana', 'cherry']"
            ]
          },
          "metadata": {},
          "execution_count": 170
        }
      ]
    },
    {
      "cell_type": "code",
      "metadata": {
        "id": "oJyazsXXAjj3"
      },
      "source": [
        "fruits[1] = 'blueberry'"
      ],
      "execution_count": 171,
      "outputs": []
    },
    {
      "cell_type": "code",
      "metadata": {
        "colab": {
          "base_uri": "https://localhost:8080/"
        },
        "id": "KIuy3so3Ajj3",
        "outputId": "f5ea6458-123e-4c77-e297-e1b9019acf9e"
      },
      "source": [
        "fruits"
      ],
      "execution_count": 172,
      "outputs": [
        {
          "output_type": "execute_result",
          "data": {
            "text/plain": [
              "['apple', 'blueberry', 'cherry']"
            ]
          },
          "metadata": {},
          "execution_count": 172
        }
      ]
    },
    {
      "cell_type": "markdown",
      "metadata": {
        "id": "84OxBavcAjj4"
      },
      "source": [
        "A new value can be added to the end of a list using the `append` method."
      ]
    },
    {
      "cell_type": "code",
      "metadata": {
        "id": "PBp3vnrDAjj4"
      },
      "source": [
        "fruits.append('dates')"
      ],
      "execution_count": 173,
      "outputs": []
    },
    {
      "cell_type": "code",
      "metadata": {
        "colab": {
          "base_uri": "https://localhost:8080/"
        },
        "id": "wGFdVELlAjj4",
        "outputId": "17106ccf-0ac1-41d0-d2a2-6177cc0cb7ef"
      },
      "source": [
        "fruits"
      ],
      "execution_count": 174,
      "outputs": [
        {
          "output_type": "execute_result",
          "data": {
            "text/plain": [
              "['apple', 'blueberry', 'cherry', 'dates']"
            ]
          },
          "metadata": {},
          "execution_count": 174
        }
      ]
    },
    {
      "cell_type": "code",
      "metadata": {
        "colab": {
          "base_uri": "https://localhost:8080/"
        },
        "id": "x1SzfwU30XE7",
        "outputId": "daf7bc66-dd6b-4f9f-8984-e4818a4029d2"
      },
      "source": [
        "fruits.append(['mango', 'oranges'])\n",
        "fruits.extend(['mango', 'oranges'])\n",
        "fruits"
      ],
      "execution_count": 177,
      "outputs": [
        {
          "output_type": "execute_result",
          "data": {
            "text/plain": [
              "['apple',\n",
              " 'blueberry',\n",
              " 'cherry',\n",
              " 'dates',\n",
              " ['mango', 'oranges'],\n",
              " 'mango',\n",
              " 'oranges',\n",
              " ['mango', 'oranges'],\n",
              " 'mango',\n",
              " 'oranges',\n",
              " ['mango', 'oranges'],\n",
              " 'mango',\n",
              " 'oranges']"
            ]
          },
          "metadata": {},
          "execution_count": 177
        }
      ]
    },
    {
      "cell_type": "markdown",
      "metadata": {
        "id": "bEYPQCd0Ajj5"
      },
      "source": [
        "A new value can also be inserted at a specific index using the `insert` method."
      ]
    },
    {
      "cell_type": "code",
      "metadata": {
        "id": "I5gN9LSJAjj5"
      },
      "source": [
        "fruits.insert(1, 'banana')"
      ],
      "execution_count": 178,
      "outputs": []
    },
    {
      "cell_type": "code",
      "metadata": {
        "colab": {
          "base_uri": "https://localhost:8080/"
        },
        "id": "QXLeP9WwAjj5",
        "outputId": "2c7252f7-1e97-445e-8d7a-be7e60ba04be"
      },
      "source": [
        "fruits"
      ],
      "execution_count": 179,
      "outputs": [
        {
          "output_type": "execute_result",
          "data": {
            "text/plain": [
              "['apple',\n",
              " 'banana',\n",
              " 'blueberry',\n",
              " 'cherry',\n",
              " 'dates',\n",
              " ['mango', 'oranges'],\n",
              " 'mango',\n",
              " 'oranges',\n",
              " ['mango', 'oranges'],\n",
              " 'mango',\n",
              " 'oranges',\n",
              " ['mango', 'oranges'],\n",
              " 'mango',\n",
              " 'oranges']"
            ]
          },
          "metadata": {},
          "execution_count": 179
        }
      ]
    },
    {
      "cell_type": "markdown",
      "metadata": {
        "id": "5f2wKrV-Ajj6"
      },
      "source": [
        "You can remove a value from a list using the `remove` method."
      ]
    },
    {
      "cell_type": "code",
      "metadata": {
        "id": "fDR0ueaQAjj6"
      },
      "source": [
        "fruits.remove('blueberry')"
      ],
      "execution_count": 180,
      "outputs": []
    },
    {
      "cell_type": "code",
      "metadata": {
        "colab": {
          "base_uri": "https://localhost:8080/"
        },
        "id": "JCGlbtgOAjj6",
        "outputId": "55f78c2c-469b-453c-e5ee-fc39cbab6f1a"
      },
      "source": [
        "fruits"
      ],
      "execution_count": 181,
      "outputs": [
        {
          "output_type": "execute_result",
          "data": {
            "text/plain": [
              "['apple',\n",
              " 'banana',\n",
              " 'cherry',\n",
              " 'dates',\n",
              " ['mango', 'oranges'],\n",
              " 'mango',\n",
              " 'oranges',\n",
              " ['mango', 'oranges'],\n",
              " 'mango',\n",
              " 'oranges',\n",
              " ['mango', 'oranges'],\n",
              " 'mango',\n",
              " 'oranges']"
            ]
          },
          "metadata": {},
          "execution_count": 181
        }
      ]
    },
    {
      "cell_type": "markdown",
      "metadata": {
        "id": "UbsW3dEPAjj7"
      },
      "source": [
        "What happens if a list has multiple instances of the value passed to `.remove`? Try it out."
      ]
    },
    {
      "cell_type": "code",
      "metadata": {
        "id": "Sx4xVmr3Ajj7"
      },
      "source": [
        "fruits.remove(['mango', 'oranges'])"
      ],
      "execution_count": 182,
      "outputs": []
    },
    {
      "cell_type": "code",
      "metadata": {
        "colab": {
          "base_uri": "https://localhost:8080/"
        },
        "id": "N8UB_KB5Ajj7",
        "outputId": "ce8d5960-b06e-488a-f00d-9fc4d5dcf223"
      },
      "source": [
        "fruits"
      ],
      "execution_count": 183,
      "outputs": [
        {
          "output_type": "execute_result",
          "data": {
            "text/plain": [
              "['apple',\n",
              " 'banana',\n",
              " 'cherry',\n",
              " 'dates',\n",
              " 'mango',\n",
              " 'oranges',\n",
              " ['mango', 'oranges'],\n",
              " 'mango',\n",
              " 'oranges',\n",
              " ['mango', 'oranges'],\n",
              " 'mango',\n",
              " 'oranges']"
            ]
          },
          "metadata": {},
          "execution_count": 183
        }
      ]
    },
    {
      "cell_type": "markdown",
      "metadata": {
        "id": "x5vDAGbjAjj7"
      },
      "source": [
        "To remove an element from a specific index, use the `pop` method. The method also returns the removed element."
      ]
    },
    {
      "cell_type": "code",
      "metadata": {
        "colab": {
          "base_uri": "https://localhost:8080/"
        },
        "id": "yYmlJJDuAjj8",
        "outputId": "f39c4054-ef96-41a6-a241-d642219fdaf7"
      },
      "source": [
        "fruits"
      ],
      "execution_count": 184,
      "outputs": [
        {
          "output_type": "execute_result",
          "data": {
            "text/plain": [
              "['apple',\n",
              " 'banana',\n",
              " 'cherry',\n",
              " 'dates',\n",
              " 'mango',\n",
              " 'oranges',\n",
              " ['mango', 'oranges'],\n",
              " 'mango',\n",
              " 'oranges',\n",
              " ['mango', 'oranges'],\n",
              " 'mango',\n",
              " 'oranges']"
            ]
          },
          "metadata": {},
          "execution_count": 184
        }
      ]
    },
    {
      "cell_type": "code",
      "metadata": {
        "colab": {
          "base_uri": "https://localhost:8080/",
          "height": 35
        },
        "id": "1xjMNxnqAjj8",
        "outputId": "690a897b-9ff8-48e7-ff2c-a2e08892596b"
      },
      "source": [
        "fruits.pop(1)"
      ],
      "execution_count": 185,
      "outputs": [
        {
          "output_type": "execute_result",
          "data": {
            "application/vnd.google.colaboratory.intrinsic+json": {
              "type": "string"
            },
            "text/plain": [
              "'banana'"
            ]
          },
          "metadata": {},
          "execution_count": 185
        }
      ]
    },
    {
      "cell_type": "code",
      "metadata": {
        "colab": {
          "base_uri": "https://localhost:8080/"
        },
        "id": "Lo6L1vjXAjj8",
        "outputId": "bc0a68d9-76f7-4b59-f30f-670839a57085"
      },
      "source": [
        "fruits"
      ],
      "execution_count": 186,
      "outputs": [
        {
          "output_type": "execute_result",
          "data": {
            "text/plain": [
              "['apple',\n",
              " 'cherry',\n",
              " 'dates',\n",
              " 'mango',\n",
              " 'oranges',\n",
              " ['mango', 'oranges'],\n",
              " 'mango',\n",
              " 'oranges',\n",
              " ['mango', 'oranges'],\n",
              " 'mango',\n",
              " 'oranges']"
            ]
          },
          "metadata": {},
          "execution_count": 186
        }
      ]
    },
    {
      "cell_type": "markdown",
      "metadata": {
        "id": "-FTG0oOWAjj9"
      },
      "source": [
        "If no index is provided, the `pop` method removes the last element of the list."
      ]
    },
    {
      "cell_type": "code",
      "metadata": {
        "colab": {
          "base_uri": "https://localhost:8080/",
          "height": 35
        },
        "id": "pLBvCC6cAjj9",
        "outputId": "671d9590-fa94-4bc2-bb43-386ffba1d6a7"
      },
      "source": [
        "fruits.pop()"
      ],
      "execution_count": 187,
      "outputs": [
        {
          "output_type": "execute_result",
          "data": {
            "application/vnd.google.colaboratory.intrinsic+json": {
              "type": "string"
            },
            "text/plain": [
              "'oranges'"
            ]
          },
          "metadata": {},
          "execution_count": 187
        }
      ]
    },
    {
      "cell_type": "code",
      "metadata": {
        "colab": {
          "base_uri": "https://localhost:8080/"
        },
        "id": "dQQFjWXoAjj-",
        "outputId": "ab351e25-a5ef-437c-a509-561431d220b7"
      },
      "source": [
        "fruits"
      ],
      "execution_count": 188,
      "outputs": [
        {
          "output_type": "execute_result",
          "data": {
            "text/plain": [
              "['apple',\n",
              " 'cherry',\n",
              " 'dates',\n",
              " 'mango',\n",
              " 'oranges',\n",
              " ['mango', 'oranges'],\n",
              " 'mango',\n",
              " 'oranges',\n",
              " ['mango', 'oranges'],\n",
              " 'mango']"
            ]
          },
          "metadata": {},
          "execution_count": 188
        }
      ]
    },
    {
      "cell_type": "markdown",
      "metadata": {
        "id": "pXpV8ZszAjj_"
      },
      "source": [
        "You can test whether a list contains a value using the `in` operator."
      ]
    },
    {
      "cell_type": "code",
      "metadata": {
        "colab": {
          "base_uri": "https://localhost:8080/"
        },
        "id": "iTpOWSsvAjj_",
        "outputId": "dc8a32ea-1001-4129-91e6-fa484e9db77d"
      },
      "source": [
        "'pineapple' in fruits"
      ],
      "execution_count": 189,
      "outputs": [
        {
          "output_type": "execute_result",
          "data": {
            "text/plain": [
              "False"
            ]
          },
          "metadata": {},
          "execution_count": 189
        }
      ]
    },
    {
      "cell_type": "code",
      "metadata": {
        "colab": {
          "base_uri": "https://localhost:8080/"
        },
        "id": "I8R7-CowAjkA",
        "outputId": "01105442-2fa2-4793-b927-0e785515a585"
      },
      "source": [
        "'cherry' in fruits"
      ],
      "execution_count": 190,
      "outputs": [
        {
          "output_type": "execute_result",
          "data": {
            "text/plain": [
              "True"
            ]
          },
          "metadata": {},
          "execution_count": 190
        }
      ]
    },
    {
      "cell_type": "markdown",
      "metadata": {
        "id": "k75ZLunvAjkA"
      },
      "source": [
        "To combine two or more lists, use the `+` operator. This operation is also called *concatenation*."
      ]
    },
    {
      "cell_type": "code",
      "metadata": {
        "colab": {
          "base_uri": "https://localhost:8080/"
        },
        "id": "10PFev0KAjkB",
        "outputId": "b614eaed-b0a9-4305-a8ef-3ee209946ce2"
      },
      "source": [
        "fruits"
      ],
      "execution_count": 191,
      "outputs": [
        {
          "output_type": "execute_result",
          "data": {
            "text/plain": [
              "['apple',\n",
              " 'cherry',\n",
              " 'dates',\n",
              " 'mango',\n",
              " 'oranges',\n",
              " ['mango', 'oranges'],\n",
              " 'mango',\n",
              " 'oranges',\n",
              " ['mango', 'oranges'],\n",
              " 'mango']"
            ]
          },
          "metadata": {},
          "execution_count": 191
        }
      ]
    },
    {
      "cell_type": "code",
      "metadata": {
        "id": "s7rbdZ49AjkB"
      },
      "source": [
        "more_fruits = fruits + ['pineapple', 'tomato', 'guava'] + ['dates', 'banana']"
      ],
      "execution_count": 192,
      "outputs": []
    },
    {
      "cell_type": "code",
      "metadata": {
        "colab": {
          "base_uri": "https://localhost:8080/"
        },
        "id": "G9Ivxua-AjkC",
        "outputId": "0fca0669-6ded-471d-f3fc-b05c997c011e"
      },
      "source": [
        "more_fruits"
      ],
      "execution_count": 193,
      "outputs": [
        {
          "output_type": "execute_result",
          "data": {
            "text/plain": [
              "['apple',\n",
              " 'cherry',\n",
              " 'dates',\n",
              " 'mango',\n",
              " 'oranges',\n",
              " ['mango', 'oranges'],\n",
              " 'mango',\n",
              " 'oranges',\n",
              " ['mango', 'oranges'],\n",
              " 'mango',\n",
              " 'pineapple',\n",
              " 'tomato',\n",
              " 'guava',\n",
              " 'dates',\n",
              " 'banana']"
            ]
          },
          "metadata": {},
          "execution_count": 193
        }
      ]
    },
    {
      "cell_type": "markdown",
      "metadata": {
        "id": "ubPXohkaAjkD"
      },
      "source": [
        "To create a copy of a list, use the `copy` method. Modifying the copied list does not affect the original."
      ]
    },
    {
      "cell_type": "code",
      "metadata": {
        "id": "YJocAlKWAjkE"
      },
      "source": [
        "more_fruits_copy = more_fruits.copy()"
      ],
      "execution_count": 194,
      "outputs": []
    },
    {
      "cell_type": "code",
      "metadata": {
        "colab": {
          "base_uri": "https://localhost:8080/"
        },
        "id": "tdbBSHqnAjkF",
        "outputId": "b095a338-4321-4183-9a90-a13b8f5ca2d7"
      },
      "source": [
        "more_fruits_copy"
      ],
      "execution_count": 195,
      "outputs": [
        {
          "output_type": "execute_result",
          "data": {
            "text/plain": [
              "['apple',\n",
              " 'cherry',\n",
              " 'dates',\n",
              " 'mango',\n",
              " 'oranges',\n",
              " ['mango', 'oranges'],\n",
              " 'mango',\n",
              " 'oranges',\n",
              " ['mango', 'oranges'],\n",
              " 'mango',\n",
              " 'pineapple',\n",
              " 'tomato',\n",
              " 'guava',\n",
              " 'dates',\n",
              " 'banana']"
            ]
          },
          "metadata": {},
          "execution_count": 195
        }
      ]
    },
    {
      "cell_type": "code",
      "metadata": {
        "colab": {
          "base_uri": "https://localhost:8080/"
        },
        "id": "CBcNdT16AjkI",
        "outputId": "c99c50c6-6e12-425c-b01c-a7b2061eee54"
      },
      "source": [
        "# Modify the copy\n",
        "more_fruits_copy.remove('pineapple')\n",
        "more_fruits_copy.pop()\n",
        "more_fruits_copy"
      ],
      "execution_count": 196,
      "outputs": [
        {
          "output_type": "execute_result",
          "data": {
            "text/plain": [
              "['apple',\n",
              " 'cherry',\n",
              " 'dates',\n",
              " 'mango',\n",
              " 'oranges',\n",
              " ['mango', 'oranges'],\n",
              " 'mango',\n",
              " 'oranges',\n",
              " ['mango', 'oranges'],\n",
              " 'mango',\n",
              " 'tomato',\n",
              " 'guava',\n",
              " 'dates']"
            ]
          },
          "metadata": {},
          "execution_count": 196
        }
      ]
    },
    {
      "cell_type": "code",
      "metadata": {
        "colab": {
          "base_uri": "https://localhost:8080/"
        },
        "id": "ccFWkh56AjkI",
        "outputId": "65a43f79-2e9f-4628-da20-d8794674cc09"
      },
      "source": [
        "# Original list remains unchanged\n",
        "more_fruits"
      ],
      "execution_count": 197,
      "outputs": [
        {
          "output_type": "execute_result",
          "data": {
            "text/plain": [
              "['apple',\n",
              " 'cherry',\n",
              " 'dates',\n",
              " 'mango',\n",
              " 'oranges',\n",
              " ['mango', 'oranges'],\n",
              " 'mango',\n",
              " 'oranges',\n",
              " ['mango', 'oranges'],\n",
              " 'mango',\n",
              " 'pineapple',\n",
              " 'tomato',\n",
              " 'guava',\n",
              " 'dates',\n",
              " 'banana']"
            ]
          },
          "metadata": {},
          "execution_count": 197
        }
      ]
    },
    {
      "cell_type": "markdown",
      "metadata": {
        "id": "16E01XY5AjkJ"
      },
      "source": [
        "Note that you cannot create a copy of a list by simply creating a new variable using the assignment operator `=`. The new variable will point to the same list, and any modifications performed using either variable will affect the other."
      ]
    },
    {
      "cell_type": "code",
      "metadata": {
        "colab": {
          "base_uri": "https://localhost:8080/"
        },
        "id": "h7R7f3TJAjkJ",
        "outputId": "4b5a0d12-b1ed-42a2-eae0-471aabf92e16"
      },
      "source": [
        "more_fruits"
      ],
      "execution_count": 198,
      "outputs": [
        {
          "output_type": "execute_result",
          "data": {
            "text/plain": [
              "['apple',\n",
              " 'cherry',\n",
              " 'dates',\n",
              " 'mango',\n",
              " 'oranges',\n",
              " ['mango', 'oranges'],\n",
              " 'mango',\n",
              " 'oranges',\n",
              " ['mango', 'oranges'],\n",
              " 'mango',\n",
              " 'pineapple',\n",
              " 'tomato',\n",
              " 'guava',\n",
              " 'dates',\n",
              " 'banana']"
            ]
          },
          "metadata": {},
          "execution_count": 198
        }
      ]
    },
    {
      "cell_type": "code",
      "metadata": {
        "id": "TABeQK-GAjkK"
      },
      "source": [
        "more_fruits_not_a_copy = more_fruits"
      ],
      "execution_count": 199,
      "outputs": []
    },
    {
      "cell_type": "code",
      "metadata": {
        "colab": {
          "base_uri": "https://localhost:8080/",
          "height": 35
        },
        "id": "m3xZZwulAjkK",
        "outputId": "5ac96bcd-a19c-4f91-ff78-bcdc243fe520"
      },
      "source": [
        "more_fruits_not_a_copy.remove('pineapple')\n",
        "more_fruits_not_a_copy.pop()"
      ],
      "execution_count": 200,
      "outputs": [
        {
          "output_type": "execute_result",
          "data": {
            "application/vnd.google.colaboratory.intrinsic+json": {
              "type": "string"
            },
            "text/plain": [
              "'banana'"
            ]
          },
          "metadata": {},
          "execution_count": 200
        }
      ]
    },
    {
      "cell_type": "code",
      "metadata": {
        "colab": {
          "base_uri": "https://localhost:8080/"
        },
        "id": "_0hV_pwRAjkK",
        "outputId": "1530a4dd-0da9-42d2-9927-1666a35f7c30"
      },
      "source": [
        "more_fruits_not_a_copy"
      ],
      "execution_count": 201,
      "outputs": [
        {
          "output_type": "execute_result",
          "data": {
            "text/plain": [
              "['apple',\n",
              " 'cherry',\n",
              " 'dates',\n",
              " 'mango',\n",
              " 'oranges',\n",
              " ['mango', 'oranges'],\n",
              " 'mango',\n",
              " 'oranges',\n",
              " ['mango', 'oranges'],\n",
              " 'mango',\n",
              " 'tomato',\n",
              " 'guava',\n",
              " 'dates']"
            ]
          },
          "metadata": {},
          "execution_count": 201
        }
      ]
    },
    {
      "cell_type": "code",
      "metadata": {
        "colab": {
          "base_uri": "https://localhost:8080/"
        },
        "id": "kdhJuvH7AjkL",
        "outputId": "ceb6f41e-2c33-4d09-c941-6af88cba0543"
      },
      "source": [
        "more_fruits"
      ],
      "execution_count": 202,
      "outputs": [
        {
          "output_type": "execute_result",
          "data": {
            "text/plain": [
              "['apple',\n",
              " 'cherry',\n",
              " 'dates',\n",
              " 'mango',\n",
              " 'oranges',\n",
              " ['mango', 'oranges'],\n",
              " 'mango',\n",
              " 'oranges',\n",
              " ['mango', 'oranges'],\n",
              " 'mango',\n",
              " 'tomato',\n",
              " 'guava',\n",
              " 'dates']"
            ]
          },
          "metadata": {},
          "execution_count": 202
        }
      ]
    },
    {
      "cell_type": "markdown",
      "metadata": {
        "id": "jQme2atDAjkL"
      },
      "source": [
        "Just like strings, there are several in-built methods to manipulate a list. However, unlike strings, most list methods modify the original list rather than returning a new one. Check out some common list operations here: https://www.w3schools.com/python/python_ref_list.asp .\n",
        "\n",
        "\n",
        "Following are some exercises you can try out with list methods (use the blank code cells below):\n",
        "\n",
        "* Reverse the order of elements in a list\n",
        "* Add the elements of one list at the end of another list\n",
        "* Sort a list of strings in alphabetical order\n",
        "* Sort a list of numbers in decreasing order"
      ]
    },
    {
      "cell_type": "code",
      "metadata": {
        "colab": {
          "base_uri": "https://localhost:8080/"
        },
        "id": "SRAyUYKIAjkL",
        "outputId": "521fbaac-85db-49cd-c3d7-9961f8d8f757"
      },
      "source": [
        "more_fruits.reverse()\n",
        "more_fruits"
      ],
      "execution_count": 203,
      "outputs": [
        {
          "output_type": "execute_result",
          "data": {
            "text/plain": [
              "['dates',\n",
              " 'guava',\n",
              " 'tomato',\n",
              " 'mango',\n",
              " ['mango', 'oranges'],\n",
              " 'oranges',\n",
              " 'mango',\n",
              " ['mango', 'oranges'],\n",
              " 'oranges',\n",
              " 'mango',\n",
              " 'dates',\n",
              " 'cherry',\n",
              " 'apple']"
            ]
          },
          "metadata": {},
          "execution_count": 203
        }
      ]
    },
    {
      "cell_type": "code",
      "metadata": {
        "colab": {
          "base_uri": "https://localhost:8080/"
        },
        "id": "Sms2FRvwAjkM",
        "outputId": "f900ee02-0651-4f0a-fd0e-175d47c31ba4"
      },
      "source": [
        "names = ['cynthia', 'asher', 'yvonne', 'grace']\n",
        "food = ['mtura', 'uji', 'ndengu', 'ugali']\n",
        "names_food = names + food\n",
        "print(names_food)"
      ],
      "execution_count": 204,
      "outputs": [
        {
          "output_type": "stream",
          "name": "stdout",
          "text": [
            "['cynthia', 'asher', 'yvonne', 'grace', 'mtura', 'uji', 'ndengu', 'ugali']\n"
          ]
        }
      ]
    },
    {
      "cell_type": "code",
      "metadata": {
        "id": "wnH7deFIAjkM"
      },
      "source": [
        "names.sort()"
      ],
      "execution_count": 205,
      "outputs": []
    },
    {
      "cell_type": "code",
      "metadata": {
        "colab": {
          "base_uri": "https://localhost:8080/"
        },
        "id": "AOYMPV79AjkM",
        "outputId": "337c4d3a-5f70-413b-f4bb-0a76e171ce8f"
      },
      "source": [
        "names"
      ],
      "execution_count": 206,
      "outputs": [
        {
          "output_type": "execute_result",
          "data": {
            "text/plain": [
              "['asher', 'cynthia', 'grace', 'yvonne']"
            ]
          },
          "metadata": {},
          "execution_count": 206
        }
      ]
    },
    {
      "cell_type": "code",
      "metadata": {
        "id": "vCcwxqS863li"
      },
      "source": [
        "num = [1, 7, 45, 78, 23, 65]\n",
        "num.sort(reverse=True)"
      ],
      "execution_count": 207,
      "outputs": []
    },
    {
      "cell_type": "code",
      "metadata": {
        "colab": {
          "base_uri": "https://localhost:8080/"
        },
        "id": "xeESm3bM7vJO",
        "outputId": "cecfd54d-b28c-4d80-a7a2-b3ecffac5952"
      },
      "source": [
        "num"
      ],
      "execution_count": 208,
      "outputs": [
        {
          "output_type": "execute_result",
          "data": {
            "text/plain": [
              "[78, 65, 45, 23, 7, 1]"
            ]
          },
          "metadata": {},
          "execution_count": 208
        }
      ]
    },
    {
      "cell_type": "markdown",
      "metadata": {
        "id": "3btxL1nOAjkM"
      },
      "source": [
        "### Tuple\n",
        "\n",
        "A tuple is an ordered collection of values, similar to a list. However, it is not possible to add, remove, or modify values in a tuple. A tuple is created by enclosing values within parentheses `(` and `)`, separated by commas.\n",
        "\n",
        "> Any data structure that cannot be modified after creation is called *immutable*. You can think of tuples as immutable lists.\n",
        "\n",
        "Let's try some experiments with tuples."
      ]
    },
    {
      "cell_type": "code",
      "metadata": {
        "id": "3k7RnzowAjkM"
      },
      "source": [
        "fruits = ('apple', 'cherry', 'dates')"
      ],
      "execution_count": 209,
      "outputs": []
    },
    {
      "cell_type": "code",
      "metadata": {
        "colab": {
          "base_uri": "https://localhost:8080/"
        },
        "id": "qbUMA6qGAjkN",
        "outputId": "d1bfec0e-f5cb-476d-bf81-4dea69c1853d"
      },
      "source": [
        "# check no. of elements\n",
        "len(fruits)"
      ],
      "execution_count": 210,
      "outputs": [
        {
          "output_type": "execute_result",
          "data": {
            "text/plain": [
              "3"
            ]
          },
          "metadata": {},
          "execution_count": 210
        }
      ]
    },
    {
      "cell_type": "code",
      "metadata": {
        "colab": {
          "base_uri": "https://localhost:8080/",
          "height": 35
        },
        "id": "cmfA5YG5AjkN",
        "outputId": "8b9ed727-b8e4-48ec-bad4-96eb3cfbf74e"
      },
      "source": [
        "# get an element (positive index)\n",
        "fruits[0]"
      ],
      "execution_count": 211,
      "outputs": [
        {
          "output_type": "execute_result",
          "data": {
            "application/vnd.google.colaboratory.intrinsic+json": {
              "type": "string"
            },
            "text/plain": [
              "'apple'"
            ]
          },
          "metadata": {},
          "execution_count": 211
        }
      ]
    },
    {
      "cell_type": "code",
      "metadata": {
        "colab": {
          "base_uri": "https://localhost:8080/",
          "height": 35
        },
        "id": "IMZ4wGVjAjkO",
        "outputId": "84d4f760-f2dc-4b71-cb9e-10cc36031b29"
      },
      "source": [
        "# get an element (negative index)\n",
        "fruits[-2]"
      ],
      "execution_count": 212,
      "outputs": [
        {
          "output_type": "execute_result",
          "data": {
            "application/vnd.google.colaboratory.intrinsic+json": {
              "type": "string"
            },
            "text/plain": [
              "'cherry'"
            ]
          },
          "metadata": {},
          "execution_count": 212
        }
      ]
    },
    {
      "cell_type": "code",
      "metadata": {
        "colab": {
          "base_uri": "https://localhost:8080/"
        },
        "id": "QrLf-QsCAjkO",
        "outputId": "f4907f94-fd42-4dc3-8295-2b2036e8a249"
      },
      "source": [
        "# check if it contains an element\n",
        "'dates' in fruits"
      ],
      "execution_count": 213,
      "outputs": [
        {
          "output_type": "execute_result",
          "data": {
            "text/plain": [
              "True"
            ]
          },
          "metadata": {},
          "execution_count": 213
        }
      ]
    },
    {
      "cell_type": "code",
      "metadata": {
        "colab": {
          "base_uri": "https://localhost:8080/",
          "height": 185
        },
        "id": "188xt3E_AjkP",
        "outputId": "6f5399ef-6e65-4753-fb12-2cfbb04b5f72"
      },
      "source": [
        "# try to change an element\n",
        "fruits[0] = 'avocado'"
      ],
      "execution_count": 214,
      "outputs": [
        {
          "output_type": "error",
          "ename": "TypeError",
          "evalue": "ignored",
          "traceback": [
            "\u001b[0;31m---------------------------------------------------------------------------\u001b[0m",
            "\u001b[0;31mTypeError\u001b[0m                                 Traceback (most recent call last)",
            "\u001b[0;32m<ipython-input-214-eea1d48cc8b5>\u001b[0m in \u001b[0;36m<module>\u001b[0;34m()\u001b[0m\n\u001b[1;32m      1\u001b[0m \u001b[0;31m# try to change an element\u001b[0m\u001b[0;34m\u001b[0m\u001b[0;34m\u001b[0m\u001b[0;34m\u001b[0m\u001b[0m\n\u001b[0;32m----> 2\u001b[0;31m \u001b[0mfruits\u001b[0m\u001b[0;34m[\u001b[0m\u001b[0;36m0\u001b[0m\u001b[0;34m]\u001b[0m \u001b[0;34m=\u001b[0m \u001b[0;34m'avocado'\u001b[0m\u001b[0;34m\u001b[0m\u001b[0;34m\u001b[0m\u001b[0m\n\u001b[0m",
            "\u001b[0;31mTypeError\u001b[0m: 'tuple' object does not support item assignment"
          ]
        }
      ]
    },
    {
      "cell_type": "code",
      "metadata": {
        "colab": {
          "base_uri": "https://localhost:8080/",
          "height": 185
        },
        "id": "vBtZP3BRAjkP",
        "outputId": "dd9d3e2b-a7a2-4ac6-a9a7-b7edf2b99356"
      },
      "source": [
        "# try to append an element\n",
        "fruits.append('blueberry')"
      ],
      "execution_count": 215,
      "outputs": [
        {
          "output_type": "error",
          "ename": "AttributeError",
          "evalue": "ignored",
          "traceback": [
            "\u001b[0;31m---------------------------------------------------------------------------\u001b[0m",
            "\u001b[0;31mAttributeError\u001b[0m                            Traceback (most recent call last)",
            "\u001b[0;32m<ipython-input-215-e5ea20adaaf8>\u001b[0m in \u001b[0;36m<module>\u001b[0;34m()\u001b[0m\n\u001b[1;32m      1\u001b[0m \u001b[0;31m# try to append an element\u001b[0m\u001b[0;34m\u001b[0m\u001b[0;34m\u001b[0m\u001b[0;34m\u001b[0m\u001b[0m\n\u001b[0;32m----> 2\u001b[0;31m \u001b[0mfruits\u001b[0m\u001b[0;34m.\u001b[0m\u001b[0mappend\u001b[0m\u001b[0;34m(\u001b[0m\u001b[0;34m'blueberry'\u001b[0m\u001b[0;34m)\u001b[0m\u001b[0;34m\u001b[0m\u001b[0;34m\u001b[0m\u001b[0m\n\u001b[0m",
            "\u001b[0;31mAttributeError\u001b[0m: 'tuple' object has no attribute 'append'"
          ]
        }
      ]
    },
    {
      "cell_type": "code",
      "metadata": {
        "colab": {
          "base_uri": "https://localhost:8080/",
          "height": 185
        },
        "id": "V8eawzXCAjkP",
        "outputId": "e8b7e1d2-f135-45d6-a39e-2b64ead6ae4f"
      },
      "source": [
        "# try to remove an element\n",
        "fruits.remove('apple')"
      ],
      "execution_count": 216,
      "outputs": [
        {
          "output_type": "error",
          "ename": "AttributeError",
          "evalue": "ignored",
          "traceback": [
            "\u001b[0;31m---------------------------------------------------------------------------\u001b[0m",
            "\u001b[0;31mAttributeError\u001b[0m                            Traceback (most recent call last)",
            "\u001b[0;32m<ipython-input-216-37543d45b6b4>\u001b[0m in \u001b[0;36m<module>\u001b[0;34m()\u001b[0m\n\u001b[1;32m      1\u001b[0m \u001b[0;31m# try to remove an element\u001b[0m\u001b[0;34m\u001b[0m\u001b[0;34m\u001b[0m\u001b[0;34m\u001b[0m\u001b[0m\n\u001b[0;32m----> 2\u001b[0;31m \u001b[0mfruits\u001b[0m\u001b[0;34m.\u001b[0m\u001b[0mremove\u001b[0m\u001b[0;34m(\u001b[0m\u001b[0;34m'apple'\u001b[0m\u001b[0;34m)\u001b[0m\u001b[0;34m\u001b[0m\u001b[0;34m\u001b[0m\u001b[0m\n\u001b[0m",
            "\u001b[0;31mAttributeError\u001b[0m: 'tuple' object has no attribute 'remove'"
          ]
        }
      ]
    },
    {
      "cell_type": "markdown",
      "metadata": {
        "id": "B3snVN-zAjkQ"
      },
      "source": [
        "You can also skip the parantheses `(` and `)` while creating a tuple. Python automatically converts comma-separated values into a tuple."
      ]
    },
    {
      "cell_type": "code",
      "metadata": {
        "id": "WabHA4MpAjkQ"
      },
      "source": [
        "the_3_musketeers = 'Athos', 'Porthos', 'Aramis'"
      ],
      "execution_count": 217,
      "outputs": []
    },
    {
      "cell_type": "code",
      "metadata": {
        "colab": {
          "base_uri": "https://localhost:8080/"
        },
        "id": "468lFLK2AjkQ",
        "outputId": "bf5b286c-ad9f-4e17-e286-cf1a79b830b8"
      },
      "source": [
        "the_3_musketeers"
      ],
      "execution_count": 218,
      "outputs": [
        {
          "output_type": "execute_result",
          "data": {
            "text/plain": [
              "('Athos', 'Porthos', 'Aramis')"
            ]
          },
          "metadata": {},
          "execution_count": 218
        }
      ]
    },
    {
      "cell_type": "markdown",
      "metadata": {
        "id": "ZxWFl8XoAjkR"
      },
      "source": [
        "You can also create a tuple with just one element by typing a comma after it. Just wrapping it with parentheses `(` and `)` won't make it a tuple."
      ]
    },
    {
      "cell_type": "code",
      "metadata": {
        "id": "6ldcrxUlAjkR"
      },
      "source": [
        "single_element_tuple = 4,"
      ],
      "execution_count": 219,
      "outputs": []
    },
    {
      "cell_type": "code",
      "metadata": {
        "colab": {
          "base_uri": "https://localhost:8080/"
        },
        "id": "9zYo31AoAjkS",
        "outputId": "39d98834-03c3-4e3b-bd5a-f9cfe2528fae"
      },
      "source": [
        "single_element_tuple"
      ],
      "execution_count": 220,
      "outputs": [
        {
          "output_type": "execute_result",
          "data": {
            "text/plain": [
              "(4,)"
            ]
          },
          "metadata": {},
          "execution_count": 220
        }
      ]
    },
    {
      "cell_type": "code",
      "metadata": {
        "id": "LPwxyXdaAjkS"
      },
      "source": [
        "another_single_element_tuple = (4,)"
      ],
      "execution_count": 221,
      "outputs": []
    },
    {
      "cell_type": "code",
      "metadata": {
        "colab": {
          "base_uri": "https://localhost:8080/"
        },
        "id": "zHpJ1CEVAjkT",
        "outputId": "0a152b2e-8752-4507-c176-acc09aab6894"
      },
      "source": [
        "another_single_element_tuple"
      ],
      "execution_count": 222,
      "outputs": [
        {
          "output_type": "execute_result",
          "data": {
            "text/plain": [
              "(4,)"
            ]
          },
          "metadata": {},
          "execution_count": 222
        }
      ]
    },
    {
      "cell_type": "code",
      "metadata": {
        "id": "JgKW24v2AjkT"
      },
      "source": [
        "not_a_tuple = (4)"
      ],
      "execution_count": 223,
      "outputs": []
    },
    {
      "cell_type": "code",
      "metadata": {
        "colab": {
          "base_uri": "https://localhost:8080/"
        },
        "id": "MMI4z2pXAjkU",
        "outputId": "3414dacd-bfce-47bd-a721-293b442e9c90"
      },
      "source": [
        "not_a_tuple"
      ],
      "execution_count": 224,
      "outputs": [
        {
          "output_type": "execute_result",
          "data": {
            "text/plain": [
              "4"
            ]
          },
          "metadata": {},
          "execution_count": 224
        }
      ]
    },
    {
      "cell_type": "markdown",
      "metadata": {
        "id": "AULIkHcTAjkV"
      },
      "source": [
        "Tuples are often used to create multiple variables with a single statement."
      ]
    },
    {
      "cell_type": "code",
      "metadata": {
        "id": "ZSB8t4OuAjkV"
      },
      "source": [
        "point = (3, 4)"
      ],
      "execution_count": 226,
      "outputs": []
    },
    {
      "cell_type": "code",
      "metadata": {
        "id": "f81Tt9dlAjkW"
      },
      "source": [
        "point_x, point_y = point"
      ],
      "execution_count": 227,
      "outputs": []
    },
    {
      "cell_type": "code",
      "metadata": {
        "colab": {
          "base_uri": "https://localhost:8080/"
        },
        "id": "f6voqMEIAjkW",
        "outputId": "c00af068-6471-425c-9421-af3971e8836e"
      },
      "source": [
        "point_x"
      ],
      "execution_count": 228,
      "outputs": [
        {
          "output_type": "execute_result",
          "data": {
            "text/plain": [
              "3"
            ]
          },
          "metadata": {},
          "execution_count": 228
        }
      ]
    },
    {
      "cell_type": "code",
      "metadata": {
        "colab": {
          "base_uri": "https://localhost:8080/"
        },
        "id": "PRC_thSgAjkX",
        "outputId": "777cb05b-0ccf-42b6-e273-c1261114af15"
      },
      "source": [
        "point_y"
      ],
      "execution_count": 229,
      "outputs": [
        {
          "output_type": "execute_result",
          "data": {
            "text/plain": [
              "4"
            ]
          },
          "metadata": {},
          "execution_count": 229
        }
      ]
    },
    {
      "cell_type": "markdown",
      "metadata": {
        "id": "TD5vf34GAjkX"
      },
      "source": [
        "You can convert a list into a tuple using the `tuple` function, and vice versa using the `list` function"
      ]
    },
    {
      "cell_type": "code",
      "metadata": {
        "colab": {
          "base_uri": "https://localhost:8080/"
        },
        "id": "_SCdEmaOAjkY",
        "outputId": "0c352758-0a9e-4fae-aac7-7b173e170403"
      },
      "source": [
        "tuple(['one', 'two', 'three'])"
      ],
      "execution_count": 230,
      "outputs": [
        {
          "output_type": "execute_result",
          "data": {
            "text/plain": [
              "('one', 'two', 'three')"
            ]
          },
          "metadata": {},
          "execution_count": 230
        }
      ]
    },
    {
      "cell_type": "code",
      "metadata": {
        "colab": {
          "base_uri": "https://localhost:8080/"
        },
        "id": "0g6NVjXdAjkY",
        "outputId": "cb7afdf3-d0bf-47c2-da21-14ef13273a8c"
      },
      "source": [
        "list(('Athos', 'Porthos', 'Aramis'))"
      ],
      "execution_count": 231,
      "outputs": [
        {
          "output_type": "execute_result",
          "data": {
            "text/plain": [
              "['Athos', 'Porthos', 'Aramis']"
            ]
          },
          "metadata": {},
          "execution_count": 231
        }
      ]
    },
    {
      "cell_type": "markdown",
      "metadata": {
        "id": "kh7zUG41AjkY"
      },
      "source": [
        "Tuples have just two built-in methods: `count` and `index`. Can you figure out what they do? While you look could look for documentation and examples online, there's an easier way to check a method's documentation, using the `help` function."
      ]
    },
    {
      "cell_type": "code",
      "metadata": {
        "id": "2WusFG23AjkZ"
      },
      "source": [
        "a_tuple = 23, \"hello\", False, None, 23, 37, \"hello\""
      ],
      "execution_count": 232,
      "outputs": []
    },
    {
      "cell_type": "code",
      "metadata": {
        "colab": {
          "base_uri": "https://localhost:8080/"
        },
        "id": "RSqmPf8qAjkZ",
        "outputId": "110fd41c-68bb-4549-8c5c-5e8893e0078e"
      },
      "source": [
        "help(a_tuple.count)"
      ],
      "execution_count": 233,
      "outputs": [
        {
          "output_type": "stream",
          "name": "stdout",
          "text": [
            "Help on built-in function count:\n",
            "\n",
            "count(value, /) method of builtins.tuple instance\n",
            "    Return number of occurrences of value.\n",
            "\n"
          ]
        }
      ]
    },
    {
      "cell_type": "markdown",
      "metadata": {
        "id": "jcveiJjnAjkZ"
      },
      "source": [
        "Within a Jupyter notebook, you can also start a code cell with `?` and type the name of a function or method. When you execute this cell, you will see the function/method's documentation in a pop-up window."
      ]
    },
    {
      "cell_type": "code",
      "metadata": {
        "id": "_KAv3LKTAjka"
      },
      "source": [
        "?a_tuple.index"
      ],
      "execution_count": 241,
      "outputs": []
    },
    {
      "cell_type": "markdown",
      "metadata": {
        "id": "E60To-n9Ajka"
      },
      "source": [
        "Try using `count` and `index` with `a_tuple` in the code cells below."
      ]
    },
    {
      "cell_type": "code",
      "metadata": {
        "id": "a7FZOoHrAjka"
      },
      "source": [
        "b_tuple = 23, 'hello', 'week', 24, True, None, 'oppose'"
      ],
      "execution_count": 235,
      "outputs": []
    },
    {
      "cell_type": "code",
      "metadata": {
        "colab": {
          "base_uri": "https://localhost:8080/"
        },
        "id": "RF8APZ_9Ajkb",
        "outputId": "f0dd08d9-2329-43c6-c8b1-a7c77e0942ec"
      },
      "source": [
        "len(a_tuple)"
      ],
      "execution_count": 237,
      "outputs": [
        {
          "output_type": "execute_result",
          "data": {
            "text/plain": [
              "7"
            ]
          },
          "metadata": {},
          "execution_count": 237
        }
      ]
    },
    {
      "cell_type": "code",
      "metadata": {
        "colab": {
          "base_uri": "https://localhost:8080/"
        },
        "id": "vv-n-noc_CNc",
        "outputId": "e2fadada-2adc-4c70-bd0b-f7d913d1bf78"
      },
      "source": [
        "?cmp"
      ],
      "execution_count": 239,
      "outputs": [
        {
          "output_type": "stream",
          "name": "stdout",
          "text": [
            "Object `cmp` not found.\n"
          ]
        }
      ]
    },
    {
      "cell_type": "code",
      "metadata": {
        "colab": {
          "base_uri": "https://localhost:8080/"
        },
        "id": "6VKzseR3_2kL",
        "outputId": "794c6916-a517-471c-ce87-a4c898517de6"
      },
      "source": [
        "a_tuple.count(23)"
      ],
      "execution_count": 240,
      "outputs": [
        {
          "output_type": "execute_result",
          "data": {
            "text/plain": [
              "2"
            ]
          },
          "metadata": {},
          "execution_count": 240
        }
      ]
    },
    {
      "cell_type": "code",
      "metadata": {
        "colab": {
          "base_uri": "https://localhost:8080/"
        },
        "id": "2sA6HSEcAW4l",
        "outputId": "52f65ffa-af51-4e5e-87ba-fa93125680c4"
      },
      "source": [
        "b_tuple.index(23)"
      ],
      "execution_count": 242,
      "outputs": [
        {
          "output_type": "execute_result",
          "data": {
            "text/plain": [
              "0"
            ]
          },
          "metadata": {},
          "execution_count": 242
        }
      ]
    },
    {
      "cell_type": "markdown",
      "metadata": {
        "id": "DJknuQMeAjkb"
      },
      "source": [
        "### Dictionary\n",
        "\n",
        "A dictionary is an unordered collection of items. Each item stored in a dictionary has a key and value. You can use a key to retrieve the corresponding value from the dictionary.  Dictionaries have the type `dict`.\n",
        "\n",
        "Dictionaries are often used to store many pieces of information e.g. details about a person, in a single variable. Dictionaries are created by enclosing key-value pairs within braces or curly brackets `{` and `}`."
      ]
    },
    {
      "cell_type": "code",
      "metadata": {
        "id": "WPorMIS-Ajkb"
      },
      "source": [
        "person1 = {\n",
        "    'name': 'John Doe',\n",
        "    'sex': 'Male',\n",
        "    'age': 32,\n",
        "    'married': True\n",
        "}"
      ],
      "execution_count": 243,
      "outputs": []
    },
    {
      "cell_type": "code",
      "metadata": {
        "colab": {
          "base_uri": "https://localhost:8080/"
        },
        "id": "yhCGH_W_Ajkc",
        "outputId": "0fad0cca-dddc-4399-aff5-6900eb91e43d"
      },
      "source": [
        "person1"
      ],
      "execution_count": 244,
      "outputs": [
        {
          "output_type": "execute_result",
          "data": {
            "text/plain": [
              "{'age': 32, 'married': True, 'name': 'John Doe', 'sex': 'Male'}"
            ]
          },
          "metadata": {},
          "execution_count": 244
        }
      ]
    },
    {
      "cell_type": "markdown",
      "metadata": {
        "id": "IVF8hDmnAjkc"
      },
      "source": [
        "Dictionaries can also be created using the `dict` function."
      ]
    },
    {
      "cell_type": "code",
      "metadata": {
        "id": "-vBmisb9Ajkd"
      },
      "source": [
        "person2 = dict(name='Jane Judy', sex='Female', age=28, married=False)"
      ],
      "execution_count": 245,
      "outputs": []
    },
    {
      "cell_type": "code",
      "metadata": {
        "colab": {
          "base_uri": "https://localhost:8080/"
        },
        "id": "jMH_duqxAjkd",
        "outputId": "0e65221c-75b6-4035-eee8-6ce60c5b9ebd"
      },
      "source": [
        "person2"
      ],
      "execution_count": 246,
      "outputs": [
        {
          "output_type": "execute_result",
          "data": {
            "text/plain": [
              "{'age': 28, 'married': False, 'name': 'Jane Judy', 'sex': 'Female'}"
            ]
          },
          "metadata": {},
          "execution_count": 246
        }
      ]
    },
    {
      "cell_type": "code",
      "metadata": {
        "colab": {
          "base_uri": "https://localhost:8080/"
        },
        "id": "W-LtyAL3Ajkd",
        "outputId": "746ce20c-d3b3-4978-8ad7-47e73620fe5e"
      },
      "source": [
        "type(person1)"
      ],
      "execution_count": 247,
      "outputs": [
        {
          "output_type": "execute_result",
          "data": {
            "text/plain": [
              "dict"
            ]
          },
          "metadata": {},
          "execution_count": 247
        }
      ]
    },
    {
      "cell_type": "markdown",
      "metadata": {
        "id": "Iv0j_Z5LAjke"
      },
      "source": [
        "Keys can be used to access values using square brackets `[` and `]`."
      ]
    },
    {
      "cell_type": "code",
      "metadata": {
        "colab": {
          "base_uri": "https://localhost:8080/",
          "height": 35
        },
        "id": "-wHxYqd4Ajke",
        "outputId": "be9a68db-a8f7-4695-c82f-cebb01163841"
      },
      "source": [
        "person1['name']"
      ],
      "execution_count": 248,
      "outputs": [
        {
          "output_type": "execute_result",
          "data": {
            "application/vnd.google.colaboratory.intrinsic+json": {
              "type": "string"
            },
            "text/plain": [
              "'John Doe'"
            ]
          },
          "metadata": {},
          "execution_count": 248
        }
      ]
    },
    {
      "cell_type": "code",
      "metadata": {
        "colab": {
          "base_uri": "https://localhost:8080/"
        },
        "id": "A8aoTC9PAjkf",
        "outputId": "c6733233-36b0-481e-ec11-7ea57ca164ee"
      },
      "source": [
        "person1['married']"
      ],
      "execution_count": 249,
      "outputs": [
        {
          "output_type": "execute_result",
          "data": {
            "text/plain": [
              "True"
            ]
          },
          "metadata": {},
          "execution_count": 249
        }
      ]
    },
    {
      "cell_type": "code",
      "metadata": {
        "colab": {
          "base_uri": "https://localhost:8080/",
          "height": 35
        },
        "id": "WzEMRKpxAjkf",
        "outputId": "35095720-15d4-4df2-ea21-ac25625a2c51"
      },
      "source": [
        "person2['name']"
      ],
      "execution_count": 250,
      "outputs": [
        {
          "output_type": "execute_result",
          "data": {
            "application/vnd.google.colaboratory.intrinsic+json": {
              "type": "string"
            },
            "text/plain": [
              "'Jane Judy'"
            ]
          },
          "metadata": {},
          "execution_count": 250
        }
      ]
    },
    {
      "cell_type": "markdown",
      "metadata": {
        "id": "E1tjo6M_Ajkg"
      },
      "source": [
        "If a key isn't present in the dictionary, then a `KeyError` is *thrown*."
      ]
    },
    {
      "cell_type": "code",
      "metadata": {
        "colab": {
          "base_uri": "https://localhost:8080/",
          "height": 167
        },
        "id": "8wlLLccuAjkg",
        "outputId": "bd03831f-f4ca-4c68-ec9d-fe7bbc55916e"
      },
      "source": [
        "person1['address']"
      ],
      "execution_count": 251,
      "outputs": [
        {
          "output_type": "error",
          "ename": "KeyError",
          "evalue": "ignored",
          "traceback": [
            "\u001b[0;31m---------------------------------------------------------------------------\u001b[0m",
            "\u001b[0;31mKeyError\u001b[0m                                  Traceback (most recent call last)",
            "\u001b[0;32m<ipython-input-251-f2b8bd2476d4>\u001b[0m in \u001b[0;36m<module>\u001b[0;34m()\u001b[0m\n\u001b[0;32m----> 1\u001b[0;31m \u001b[0mperson1\u001b[0m\u001b[0;34m[\u001b[0m\u001b[0;34m'address'\u001b[0m\u001b[0;34m]\u001b[0m\u001b[0;34m\u001b[0m\u001b[0;34m\u001b[0m\u001b[0m\n\u001b[0m",
            "\u001b[0;31mKeyError\u001b[0m: 'address'"
          ]
        }
      ]
    },
    {
      "cell_type": "markdown",
      "metadata": {
        "id": "BLCw0FUfAjkg"
      },
      "source": [
        "You can also use the `get` method to access the value associated with a key."
      ]
    },
    {
      "cell_type": "code",
      "metadata": {
        "colab": {
          "base_uri": "https://localhost:8080/",
          "height": 35
        },
        "id": "MIv1sXtjAjkh",
        "outputId": "b8b83424-ceee-46de-8f72-9dd2ebcfc06d"
      },
      "source": [
        "person2.get(\"name\")"
      ],
      "execution_count": 252,
      "outputs": [
        {
          "output_type": "execute_result",
          "data": {
            "application/vnd.google.colaboratory.intrinsic+json": {
              "type": "string"
            },
            "text/plain": [
              "'Jane Judy'"
            ]
          },
          "metadata": {},
          "execution_count": 252
        }
      ]
    },
    {
      "cell_type": "markdown",
      "metadata": {
        "id": "tpHAKex3Ajki"
      },
      "source": [
        "The `get` method also accepts a default value, returned if the key is not present in the dictionary."
      ]
    },
    {
      "cell_type": "code",
      "metadata": {
        "colab": {
          "base_uri": "https://localhost:8080/",
          "height": 35
        },
        "id": "FtR0mt8TAjki",
        "outputId": "a1292640-0c65-46fc-976e-75182d844165"
      },
      "source": [
        "person2.get(\"address\", \"Unknown\")"
      ],
      "execution_count": 253,
      "outputs": [
        {
          "output_type": "execute_result",
          "data": {
            "application/vnd.google.colaboratory.intrinsic+json": {
              "type": "string"
            },
            "text/plain": [
              "'Unknown'"
            ]
          },
          "metadata": {},
          "execution_count": 253
        }
      ]
    },
    {
      "cell_type": "code",
      "metadata": {
        "id": "ykWqAyiQBxez"
      },
      "source": [
        "person2.get(\"address\")"
      ],
      "execution_count": 254,
      "outputs": []
    },
    {
      "cell_type": "markdown",
      "metadata": {
        "id": "d-rrzZ01Ajki"
      },
      "source": [
        "You can check whether a key is present in a dictionary using the `in` operator."
      ]
    },
    {
      "cell_type": "code",
      "metadata": {
        "colab": {
          "base_uri": "https://localhost:8080/"
        },
        "id": "FrR-lYlCAjkj",
        "outputId": "9fad5ad9-b0aa-47e8-b275-3c9422892262"
      },
      "source": [
        "'name' in person1"
      ],
      "execution_count": 255,
      "outputs": [
        {
          "output_type": "execute_result",
          "data": {
            "text/plain": [
              "True"
            ]
          },
          "metadata": {},
          "execution_count": 255
        }
      ]
    },
    {
      "cell_type": "code",
      "metadata": {
        "colab": {
          "base_uri": "https://localhost:8080/"
        },
        "id": "aQJNqi-BAjkj",
        "outputId": "fc9593ef-2532-406c-ecdf-29cac23f7f0f"
      },
      "source": [
        "'address' in person1"
      ],
      "execution_count": 256,
      "outputs": [
        {
          "output_type": "execute_result",
          "data": {
            "text/plain": [
              "False"
            ]
          },
          "metadata": {},
          "execution_count": 256
        }
      ]
    },
    {
      "cell_type": "markdown",
      "metadata": {
        "id": "NqrszfLyAjku"
      },
      "source": [
        "You can change the value associated with a key using the assignment operator."
      ]
    },
    {
      "cell_type": "code",
      "metadata": {
        "colab": {
          "base_uri": "https://localhost:8080/"
        },
        "id": "AffnxJA1Ajku",
        "outputId": "31324b01-2828-4902-c462-81e4b20a72b2"
      },
      "source": [
        "person2['married']"
      ],
      "execution_count": 257,
      "outputs": [
        {
          "output_type": "execute_result",
          "data": {
            "text/plain": [
              "False"
            ]
          },
          "metadata": {},
          "execution_count": 257
        }
      ]
    },
    {
      "cell_type": "code",
      "metadata": {
        "id": "XDDPDdczAjkv"
      },
      "source": [
        "person2['married'] = True"
      ],
      "execution_count": 258,
      "outputs": []
    },
    {
      "cell_type": "code",
      "metadata": {
        "colab": {
          "base_uri": "https://localhost:8080/"
        },
        "id": "8c1-DL3GAjkv",
        "outputId": "3b0f93d8-dd5d-4ad2-c46b-b59e256cc268"
      },
      "source": [
        "person2['married']"
      ],
      "execution_count": 259,
      "outputs": [
        {
          "output_type": "execute_result",
          "data": {
            "text/plain": [
              "True"
            ]
          },
          "metadata": {},
          "execution_count": 259
        }
      ]
    },
    {
      "cell_type": "markdown",
      "metadata": {
        "id": "AHmAm8ioAjkw"
      },
      "source": [
        "The assignment operator can also be used to add new key-value pairs to the dictionary."
      ]
    },
    {
      "cell_type": "code",
      "metadata": {
        "colab": {
          "base_uri": "https://localhost:8080/"
        },
        "id": "8PlYAynKAjkw",
        "outputId": "263bb08a-af52-43d6-ccc1-80cc1fa69ae0"
      },
      "source": [
        "person1"
      ],
      "execution_count": 260,
      "outputs": [
        {
          "output_type": "execute_result",
          "data": {
            "text/plain": [
              "{'age': 32, 'married': True, 'name': 'John Doe', 'sex': 'Male'}"
            ]
          },
          "metadata": {},
          "execution_count": 260
        }
      ]
    },
    {
      "cell_type": "code",
      "metadata": {
        "id": "ZBQb4tfyAjkw"
      },
      "source": [
        "person1['address'] = '1, Penny Lane'"
      ],
      "execution_count": 261,
      "outputs": []
    },
    {
      "cell_type": "code",
      "metadata": {
        "colab": {
          "base_uri": "https://localhost:8080/"
        },
        "id": "mvZ3sK5wAjkx",
        "outputId": "b6be8992-9066-47f7-ca69-1543ef87a81e"
      },
      "source": [
        "person1"
      ],
      "execution_count": 262,
      "outputs": [
        {
          "output_type": "execute_result",
          "data": {
            "text/plain": [
              "{'address': '1, Penny Lane',\n",
              " 'age': 32,\n",
              " 'married': True,\n",
              " 'name': 'John Doe',\n",
              " 'sex': 'Male'}"
            ]
          },
          "metadata": {},
          "execution_count": 262
        }
      ]
    },
    {
      "cell_type": "markdown",
      "metadata": {
        "id": "qBdx6DrBAjkx"
      },
      "source": [
        "To remove a key and the associated value from a dictionary, use the `pop` method."
      ]
    },
    {
      "cell_type": "code",
      "metadata": {
        "colab": {
          "base_uri": "https://localhost:8080/",
          "height": 35
        },
        "id": "yOzbkcsBAjky",
        "outputId": "d13a7d9d-719b-4664-84f6-2579f0f0aadc"
      },
      "source": [
        "person1.pop('address')"
      ],
      "execution_count": 263,
      "outputs": [
        {
          "output_type": "execute_result",
          "data": {
            "application/vnd.google.colaboratory.intrinsic+json": {
              "type": "string"
            },
            "text/plain": [
              "'1, Penny Lane'"
            ]
          },
          "metadata": {},
          "execution_count": 263
        }
      ]
    },
    {
      "cell_type": "code",
      "metadata": {
        "colab": {
          "base_uri": "https://localhost:8080/"
        },
        "id": "Ok9SOA8OAjky",
        "outputId": "2e95693c-4c91-407f-f40d-3e9af33ec53e"
      },
      "source": [
        "person1"
      ],
      "execution_count": 264,
      "outputs": [
        {
          "output_type": "execute_result",
          "data": {
            "text/plain": [
              "{'age': 32, 'married': True, 'name': 'John Doe', 'sex': 'Male'}"
            ]
          },
          "metadata": {},
          "execution_count": 264
        }
      ]
    },
    {
      "cell_type": "markdown",
      "metadata": {
        "id": "p3z_3nYMAjky"
      },
      "source": [
        "Dictionaries also provide methods to view the list of keys, values, or key-value pairs inside it."
      ]
    },
    {
      "cell_type": "code",
      "metadata": {
        "colab": {
          "base_uri": "https://localhost:8080/"
        },
        "id": "VeoCrubYAjky",
        "outputId": "ee5e752c-ca99-4565-9cb6-e119e2e88de3"
      },
      "source": [
        "person1.keys()"
      ],
      "execution_count": 265,
      "outputs": [
        {
          "output_type": "execute_result",
          "data": {
            "text/plain": [
              "dict_keys(['name', 'sex', 'age', 'married'])"
            ]
          },
          "metadata": {},
          "execution_count": 265
        }
      ]
    },
    {
      "cell_type": "code",
      "metadata": {
        "colab": {
          "base_uri": "https://localhost:8080/"
        },
        "id": "9Kyc8PV7Ajkz",
        "outputId": "b76b956f-5962-40ba-e23c-150ce641a9b1"
      },
      "source": [
        "person1.values()"
      ],
      "execution_count": 266,
      "outputs": [
        {
          "output_type": "execute_result",
          "data": {
            "text/plain": [
              "dict_values(['John Doe', 'Male', 32, True])"
            ]
          },
          "metadata": {},
          "execution_count": 266
        }
      ]
    },
    {
      "cell_type": "code",
      "metadata": {
        "colab": {
          "base_uri": "https://localhost:8080/"
        },
        "id": "N2iwhMvJAjkz",
        "outputId": "59cbaa46-f0b3-4b15-e5a0-51d818426abd"
      },
      "source": [
        "person1.items()"
      ],
      "execution_count": 267,
      "outputs": [
        {
          "output_type": "execute_result",
          "data": {
            "text/plain": [
              "dict_items([('name', 'John Doe'), ('sex', 'Male'), ('age', 32), ('married', True)])"
            ]
          },
          "metadata": {},
          "execution_count": 267
        }
      ]
    },
    {
      "cell_type": "code",
      "metadata": {
        "colab": {
          "base_uri": "https://localhost:8080/",
          "height": 167
        },
        "id": "eoTol-NyAjkz",
        "outputId": "d651eb48-bcc8-4a3c-e7bf-0d17c1348c66"
      },
      "source": [
        "person1.items()[1]"
      ],
      "execution_count": 268,
      "outputs": [
        {
          "output_type": "error",
          "ename": "TypeError",
          "evalue": "ignored",
          "traceback": [
            "\u001b[0;31m---------------------------------------------------------------------------\u001b[0m",
            "\u001b[0;31mTypeError\u001b[0m                                 Traceback (most recent call last)",
            "\u001b[0;32m<ipython-input-268-b9fb361f2a9e>\u001b[0m in \u001b[0;36m<module>\u001b[0;34m()\u001b[0m\n\u001b[0;32m----> 1\u001b[0;31m \u001b[0mperson1\u001b[0m\u001b[0;34m.\u001b[0m\u001b[0mitems\u001b[0m\u001b[0;34m(\u001b[0m\u001b[0;34m)\u001b[0m\u001b[0;34m[\u001b[0m\u001b[0;36m1\u001b[0m\u001b[0;34m]\u001b[0m\u001b[0;34m\u001b[0m\u001b[0;34m\u001b[0m\u001b[0m\n\u001b[0m",
            "\u001b[0;31mTypeError\u001b[0m: 'dict_items' object is not subscriptable"
          ]
        }
      ]
    },
    {
      "cell_type": "markdown",
      "metadata": {
        "id": "kwxVk2IxAjk0"
      },
      "source": [
        "The results of `keys`, `values`, and `items` look like lists. However, they don't support the indexing operator `[]` for retrieving elements. \n",
        "\n",
        "Can you figure out how to access an element at a specific index from these results? Try it below. *Hint: Use the `list` function*"
      ]
    },
    {
      "cell_type": "code",
      "metadata": {
        "colab": {
          "base_uri": "https://localhost:8080/"
        },
        "id": "4TO5BNHDAjk0",
        "outputId": "c3830412-d2f2-4188-9947-510c2ed76a1b"
      },
      "source": [
        "for key, value in person1.items():\n",
        "  print(key, value)"
      ],
      "execution_count": 269,
      "outputs": [
        {
          "output_type": "stream",
          "name": "stdout",
          "text": [
            "name John Doe\n",
            "sex Male\n",
            "age 32\n",
            "married True\n"
          ]
        }
      ]
    },
    {
      "cell_type": "code",
      "metadata": {
        "colab": {
          "base_uri": "https://localhost:8080/"
        },
        "id": "FzKZ_N1MAjk0",
        "outputId": "70725f02-5ad9-44cc-bfe8-55cd8d9435b0"
      },
      "source": [
        "for index in enumerate(person1.items()):\n",
        "  print(index)"
      ],
      "execution_count": 271,
      "outputs": [
        {
          "output_type": "stream",
          "name": "stdout",
          "text": [
            "(0, ('name', 'John Doe'))\n",
            "(1, ('sex', 'Male'))\n",
            "(2, ('age', 32))\n",
            "(3, ('married', True))\n"
          ]
        }
      ]
    },
    {
      "cell_type": "markdown",
      "metadata": {
        "id": "iOtgudSWAjk0"
      },
      "source": [
        "Dictionaries provide many other methods. You can learn more about them here: https://www.w3schools.com/python/python_ref_dictionary.asp .\n",
        "\n",
        "Here are some experiments you can try out with dictionaries (use the empty cells below):\n",
        "* What happens if you use the same key multiple times while creating a dictionary?\n",
        "* How can you create a copy of a dictionary (modifying the copy should not change the original)?\n",
        "* Can the value associated with a key itself be a dictionary?\n",
        "* How can you add the key-value pairs from one dictionary into another dictionary? Hint: See the `update` method.\n",
        "* Can the dictionary's keys be something other than a string, e.g., a number, boolean, list, etc.?"
      ]
    },
    {
      "cell_type": "code",
      "metadata": {
        "colab": {
          "base_uri": "https://localhost:8080/"
        },
        "id": "4XSslTkiAjk1",
        "outputId": "74b1dbe3-35c1-4d2d-8b59-a3972bd9dd19"
      },
      "source": [
        "dtr = dict(name='cynthia', age='12',)\n",
        "dtr"
      ],
      "execution_count": 274,
      "outputs": [
        {
          "output_type": "execute_result",
          "data": {
            "text/plain": [
              "{'age': '12', 'name': 'cynthia'}"
            ]
          },
          "metadata": {},
          "execution_count": 274
        }
      ]
    },
    {
      "cell_type": "code",
      "metadata": {
        "colab": {
          "base_uri": "https://localhost:8080/"
        },
        "id": "M_fVtyA7Ajk1",
        "outputId": "f52a6a0f-3b7a-4152-998f-caeafdb26064"
      },
      "source": [
        "new = dtr.copy()\n",
        "print(new)\n",
        "print(dtr)"
      ],
      "execution_count": 275,
      "outputs": [
        {
          "output_type": "stream",
          "name": "stdout",
          "text": [
            "{'name': 'cynthia', 'age': '12'}\n",
            "{'name': 'cynthia', 'age': '12'}\n"
          ]
        }
      ]
    },
    {
      "cell_type": "code",
      "metadata": {
        "id": "8dCId7tJAjk1"
      },
      "source": [
        ""
      ],
      "execution_count": null,
      "outputs": []
    },
    {
      "cell_type": "code",
      "metadata": {
        "id": "IR6MF7v4Ajk1"
      },
      "source": [
        ""
      ],
      "execution_count": null,
      "outputs": []
    },
    {
      "cell_type": "code",
      "metadata": {
        "id": "1DzTVnYjNsTa"
      },
      "source": [
        ""
      ],
      "execution_count": null,
      "outputs": []
    },
    {
      "cell_type": "code",
      "metadata": {
        "id": "dzszkRLqAjk1"
      },
      "source": [
        ""
      ],
      "execution_count": null,
      "outputs": []
    },
    {
      "cell_type": "markdown",
      "metadata": {
        "id": "NLz-GGOTAjk2"
      },
      "source": [
        "## Further Reading\n",
        "\n",
        "We've now completed our exploration of variables and common data types in Python. Following are some resources to learn more about data types in Python:\n",
        "\n",
        "* Python official documentation: https://docs.python.org/3/tutorial/index.html\n",
        "* Python Tutorial at W3Schools: https://www.w3schools.com/python/\n",
        "* Practical Python Programming: https://dabeaz-course.github.io/practical-python/Notes/Contents.html\n",
        "\n",
        "You are now ready to move on to the next tutorial: [Branching using conditional statements and loops in Python](https://jovian.ml/aakashns/python-branching-and-loops)"
      ]
    },
    {
      "cell_type": "markdown",
      "metadata": {
        "id": "lhxU5SrEAjk2"
      },
      "source": [
        "Let's save a snapshot of our notebook one final time using `jovian.commit`."
      ]
    },
    {
      "cell_type": "code",
      "metadata": {
        "colab": {
          "base_uri": "https://localhost:8080/",
          "height": 88
        },
        "id": "IYSaYEuYAjk2",
        "outputId": "d547e436-5532-4eb6-e6f1-be30b7ebf939"
      },
      "source": [
        "jovian.commit()"
      ],
      "execution_count": 276,
      "outputs": [
        {
          "output_type": "stream",
          "name": "stdout",
          "text": [
            "[jovian] Detected Colab notebook...\u001b[0m\n",
            "[jovian] Uploading colab notebook to Jovian...\u001b[0m\n",
            "Committed successfully! https://jovian.ai/bakarihamisi027/python-variables-and-data-types\n"
          ]
        },
        {
          "output_type": "execute_result",
          "data": {
            "application/vnd.google.colaboratory.intrinsic+json": {
              "type": "string"
            },
            "text/plain": [
              "'https://jovian.ai/bakarihamisi027/python-variables-and-data-types'"
            ]
          },
          "metadata": {},
          "execution_count": 276
        }
      ]
    },
    {
      "cell_type": "markdown",
      "metadata": {
        "id": "Cv1HRghUAjk3"
      },
      "source": [
        "## Questions for Revision\n",
        "\n",
        "Try answering the following questions to test your understanding of the topics covered in this notebook:\n",
        "\n",
        "1. What is a variable in Python?\n",
        "2. How do you create a variable?\n",
        "3. How do you check the value within a variable?\n",
        "4. How do you create multiple variables in a single statement?\n",
        "5. How do you create multiple variables with the same value?\n",
        "6. How do you change the value of a variable?\n",
        "7. How do you reassign a variable by modifying the previous value?\n",
        "8. What does the statement `counter += 4` do?\n",
        "9. What are the rules for naming a variable?\n",
        "10. Are variable names case-sensitive? Do `a_variable`, `A_Variable`, and `A_VARIABLE` represent the same variable or different ones?\n",
        "11. What is Syntax? Why is it important?\n",
        "12. What happens if you execute a statement with invalid syntax?\n",
        "13. How do you check the data type of a variable?\n",
        "14. What are the built-in data types in Python?\n",
        "15. What is a primitive data type? \n",
        "16. What are the primitive data types available in Python?\n",
        "17. What is a data structure or container data type?\n",
        "18. What are the container types available in Python?\n",
        "19. What kind of data does the Integer data type represent?\n",
        "20. What are the numerical limits of the integer data type?\n",
        "21. What kind of data does the float data type represent?\n",
        "22. How does Python decide if a given number is a float or an integer?\n",
        "23. How can you create a variable which stores a whole number, e.g., 4 but has the float data type?\n",
        "24. How do you create floats representing very large (e.g., 6.023 x 10^23) or very small numbers (0.000000123)?\n",
        "25. What does the expression `23e-12` represent?\n",
        "26. Can floats be used to store numbers with unlimited precision?\n",
        "27. What are the differences between integers and floats?\n",
        "28. How do you convert an integer to a float?\n",
        "29. How do you convert a float to an integer?\n",
        "30. What is the result obtained when you convert 1.99 to an integer?\n",
        "31. What are the data types of the results of the division operators `/` and `//`?\n",
        "32. What kind of data does the Boolean data type represent?\n",
        "33. Which types of Python operators return booleans as a result?\n",
        "34. What happens if you try to use a boolean in arithmetic operation?\n",
        "35. How can any value in Python be covered to a boolean?\n",
        "36. What are truthy and falsy values?\n",
        "37. What are the values in Python that evaluate to False?\n",
        "38. Give some examples of values that evaluate to True.\n",
        "39. What kind of data does the None data type represent?\n",
        "40. What is the purpose of None?\n",
        "41. What kind of data does the String data type represent?\n",
        "42. What are the different ways of creating strings in Python?\n",
        "43. What is the difference between strings creating using single quotes, i.e. `'` and `'` vs. those created using double quotes, i.e. `\"` and `\"`?\n",
        "44. How do you create multi-line strings in Python?\n",
        "45. What is the newline character, `\\n`?\n",
        "46. What are escaped characters? How are they useful?\n",
        "47. How do you check the length of a string?\n",
        "48. How do you convert a string into a list of characters?\n",
        "49. How do you access a specific character from a string?\n",
        "50. How do you access a range of characters from a string?\n",
        "51. How do you check if a specific character occurs in a string?\n",
        "52. How do you check if a smaller string occurs within a bigger string?\n",
        "53. How do you join two or more strings?\n",
        "54. What are \"methods\" in Python? How are they different from functions?\n",
        "55. What do the `.lower`, `.upper` and `.capitalize` methods on strings do?\n",
        "56. How do you replace a specific part of a string with something else?\n",
        "57. How do you split the string \"Sun,Mon,Tue,Wed,Thu,Fri,Sat\" into a list of days?\n",
        "58. How do you remove whitespace from the beginning and end of a string?\n",
        "59. What is the string `.format` method used for? Can you give an example?\n",
        "60. What are the benefits of using the `.format` method instead of string concatenation?\n",
        "61. How do you convert a value of another type to a string?\n",
        "62. How do you check if two strings have the same value?\n",
        "63. Where can you find the list of all the methods supported by strings?\n",
        "64. What is a list in Python?\n",
        "65. How do you create a list?\n",
        "66. Can a Python list contain values of different data types?\n",
        "67. Can a list contain another list as an element within it?\n",
        "68. Can you create a list without any values?\n",
        "69. How do you check the length of a list in Python?\n",
        "70. How do you retrieve a value from a list?\n",
        "71. What is the smallest and largest index you can use to access elements from a list containing five elements?\n",
        "72. What happens if you try to access an index equal to or larger than the size of a list?\n",
        "73. What happens if you try to access a negative index within a list?\n",
        "74. How do you access a range of elements from a list?\n",
        "75. How many elements does the list returned by the expression `a_list[2:5]` contain?\n",
        "76. What do the ranges `a_list[:2]` and `a_list[2:]` represent?\n",
        "77. How do you change the item stored at a specific index within a list?\n",
        "78. How do you insert a new item at the beginning, middle, or end of a list?\n",
        "79. How do you remove an item from al list?\n",
        "80. How do you remove the item at a given index from a list?\n",
        "81. How do you check if a list contains a value?\n",
        "82. How do you combine two or most lists to create a larger list?\n",
        "83. How do you create a copy of a list?\n",
        "84. Does the expression `a_new_list = a_list` create a copy of the list `a_list`?\n",
        "85. Where can you find the list of all the methods supported by lists?\n",
        "86. What is a Tuple in Python?\n",
        "87. How is a tuple different from a list?\n",
        "88. Can you add or remove elements in a tuple?\n",
        "89. How do you create a tuple with just one element?\n",
        "90. How do you convert a tuple to a list and vice versa?\n",
        "91. What are the `count` and `index` method of a Tuple used for?\n",
        "92. What is a dictionary in Python?\n",
        "93. How do you create a dictionary?\n",
        "94. What are keys and values?\n",
        "95. How do you access the value associated with a specific key in a dictionary?\n",
        "96. What happens if you try to access the value for a key that doesn't exist in a dictionary?\n",
        "97. What is the `.get` method of a dictionary used for?\n",
        "98. How do you change the value associated with a key in a dictionary?\n",
        "99. How do you add or remove a key-value pair in a dictionary?\n",
        "100. How do you access the keys, values, and key-value pairs within a dictionary?\n"
      ]
    }
  ]
}